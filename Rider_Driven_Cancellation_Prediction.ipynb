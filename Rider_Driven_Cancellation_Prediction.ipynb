{
  "cells": [
    {
      "cell_type": "markdown",
      "metadata": {
        "id": "KxymzApxPjYm"
      },
      "source": [
        "[Rider-Driven Cancellation Prediction (kaggle)](https://www.kaggle.com/c/cascade-cup-22/overview)"
      ]
    },
    {
      "cell_type": "markdown",
      "metadata": {
        "id": "ncopKBOymL6t"
      },
      "source": [
        "#Import Libraries"
      ]
    },
    {
      "cell_type": "code",
      "execution_count": 1,
      "metadata": {
        "id": "8hHF7Qabl-Dj"
      },
      "outputs": [],
      "source": [
        "import pandas as pd\n",
        "import numpy as np\n",
        "import matplotlib.pyplot as plt\n",
        "import seaborn as sns\n",
        "import datetime as dt\n",
        "from sklearn.metrics import roc_auc_score\n",
        "from sklearn.preprocessing import MinMaxScaler\n",
        "scaler = MinMaxScaler()"
      ]
    },
    {
      "cell_type": "markdown",
      "metadata": {
        "id": "yP68yFSkmgY1"
      },
      "source": [
        "#Data Processing"
      ]
    },
    {
      "cell_type": "markdown",
      "metadata": {
        "id": "Y_ifCS-NdCjr"
      },
      "source": [
        "###Preprocess Train Data"
      ]
    },
    {
      "cell_type": "code",
      "execution_count": 2,
      "metadata": {
        "colab": {
          "base_uri": "https://localhost:8080/",
          "height": 0
        },
        "id": "SNUKW24imk7o",
        "outputId": "1b062f73-9b01-40e9-8dba-dec52d05c319"
      },
      "outputs": [
        {
          "output_type": "execute_result",
          "data": {
            "text/html": [
              "\n",
              "  <div id=\"df-d11cde79-13d8-446f-ac8d-0347b424c037\">\n",
              "    <div class=\"colab-df-container\">\n",
              "      <div>\n",
              "<style scoped>\n",
              "    .dataframe tbody tr th:only-of-type {\n",
              "        vertical-align: middle;\n",
              "    }\n",
              "\n",
              "    .dataframe tbody tr th {\n",
              "        vertical-align: top;\n",
              "    }\n",
              "\n",
              "    .dataframe thead th {\n",
              "        text-align: right;\n",
              "    }\n",
              "</style>\n",
              "<table border=\"1\" class=\"dataframe\">\n",
              "  <thead>\n",
              "    <tr style=\"text-align: right;\">\n",
              "      <th></th>\n",
              "      <th>order_time</th>\n",
              "      <th>order_id</th>\n",
              "      <th>order_date</th>\n",
              "      <th>allot_time</th>\n",
              "      <th>accept_time</th>\n",
              "      <th>pickup_time</th>\n",
              "      <th>delivered_time</th>\n",
              "      <th>rider_id</th>\n",
              "      <th>first_mile_distance</th>\n",
              "      <th>last_mile_distance</th>\n",
              "      <th>alloted_orders</th>\n",
              "      <th>delivered_orders</th>\n",
              "      <th>cancelled</th>\n",
              "      <th>undelivered_orders</th>\n",
              "      <th>lifetime_order_count</th>\n",
              "      <th>reassignment_method</th>\n",
              "      <th>reassignment_reason</th>\n",
              "      <th>reassigned_order</th>\n",
              "      <th>session_time</th>\n",
              "      <th>cancelled_time</th>\n",
              "    </tr>\n",
              "  </thead>\n",
              "  <tbody>\n",
              "    <tr>\n",
              "      <th>0</th>\n",
              "      <td>2021-01-26 02:21:35</td>\n",
              "      <td>556753</td>\n",
              "      <td>2021-01-26 00:00:00</td>\n",
              "      <td>2021-01-26 02:21:59</td>\n",
              "      <td>2021-01-26 02:22:08</td>\n",
              "      <td>2021-01-26 02:32:51</td>\n",
              "      <td>2021-01-26 02:49:47</td>\n",
              "      <td>11696</td>\n",
              "      <td>1.5666</td>\n",
              "      <td>2.65</td>\n",
              "      <td>46.0</td>\n",
              "      <td>46.0</td>\n",
              "      <td>0</td>\n",
              "      <td>0.0</td>\n",
              "      <td>621.0</td>\n",
              "      <td>NaN</td>\n",
              "      <td>NaN</td>\n",
              "      <td>NaN</td>\n",
              "      <td>NaN</td>\n",
              "      <td>NaN</td>\n",
              "    </tr>\n",
              "    <tr>\n",
              "      <th>1</th>\n",
              "      <td>2021-01-26 02:33:16</td>\n",
              "      <td>556754</td>\n",
              "      <td>2021-01-26 00:00:00</td>\n",
              "      <td>2021-01-26 02:33:57</td>\n",
              "      <td>2021-01-26 02:34:45</td>\n",
              "      <td>2021-01-26 02:50:25</td>\n",
              "      <td>2021-01-26 03:11:15</td>\n",
              "      <td>18117</td>\n",
              "      <td>2.5207</td>\n",
              "      <td>2.76</td>\n",
              "      <td>8.0</td>\n",
              "      <td>8.0</td>\n",
              "      <td>0</td>\n",
              "      <td>0.0</td>\n",
              "      <td>105.0</td>\n",
              "      <td>NaN</td>\n",
              "      <td>NaN</td>\n",
              "      <td>NaN</td>\n",
              "      <td>3.266667</td>\n",
              "      <td>NaN</td>\n",
              "    </tr>\n",
              "    <tr>\n",
              "      <th>2</th>\n",
              "      <td>2021-01-26 02:39:49</td>\n",
              "      <td>556755</td>\n",
              "      <td>2021-01-26 00:00:00</td>\n",
              "      <td>2021-01-26 02:39:57</td>\n",
              "      <td>2021-01-26 02:40:13</td>\n",
              "      <td>2021-01-26 02:56:00</td>\n",
              "      <td>2021-01-26 03:12:46</td>\n",
              "      <td>18623</td>\n",
              "      <td>2.2074</td>\n",
              "      <td>4.80</td>\n",
              "      <td>1.0</td>\n",
              "      <td>1.0</td>\n",
              "      <td>0</td>\n",
              "      <td>0.0</td>\n",
              "      <td>66.0</td>\n",
              "      <td>NaN</td>\n",
              "      <td>NaN</td>\n",
              "      <td>NaN</td>\n",
              "      <td>9.816667</td>\n",
              "      <td>NaN</td>\n",
              "    </tr>\n",
              "    <tr>\n",
              "      <th>3</th>\n",
              "      <td>2021-01-26 02:47:53</td>\n",
              "      <td>556756</td>\n",
              "      <td>2021-01-26 00:00:00</td>\n",
              "      <td>2021-01-26 02:48:25</td>\n",
              "      <td>2021-01-26 02:49:06</td>\n",
              "      <td>2021-01-26 03:21:51</td>\n",
              "      <td>2021-01-26 03:41:05</td>\n",
              "      <td>15945</td>\n",
              "      <td>2.1894</td>\n",
              "      <td>6.38</td>\n",
              "      <td>1.0</td>\n",
              "      <td>1.0</td>\n",
              "      <td>0</td>\n",
              "      <td>0.0</td>\n",
              "      <td>127.0</td>\n",
              "      <td>NaN</td>\n",
              "      <td>NaN</td>\n",
              "      <td>NaN</td>\n",
              "      <td>17.533333</td>\n",
              "      <td>NaN</td>\n",
              "    </tr>\n",
              "    <tr>\n",
              "      <th>4</th>\n",
              "      <td>2021-01-26 03:06:30</td>\n",
              "      <td>556757</td>\n",
              "      <td>2021-01-26 00:00:00</td>\n",
              "      <td>2021-01-26 03:07:21</td>\n",
              "      <td>2021-01-26 03:07:57</td>\n",
              "      <td>2021-01-26 03:31:38</td>\n",
              "      <td>2021-01-26 04:00:15</td>\n",
              "      <td>17589</td>\n",
              "      <td>2.7870</td>\n",
              "      <td>4.01</td>\n",
              "      <td>34.0</td>\n",
              "      <td>34.0</td>\n",
              "      <td>0</td>\n",
              "      <td>0.0</td>\n",
              "      <td>84.0</td>\n",
              "      <td>NaN</td>\n",
              "      <td>NaN</td>\n",
              "      <td>NaN</td>\n",
              "      <td>1.350000</td>\n",
              "      <td>NaN</td>\n",
              "    </tr>\n",
              "  </tbody>\n",
              "</table>\n",
              "</div>\n",
              "      <button class=\"colab-df-convert\" onclick=\"convertToInteractive('df-d11cde79-13d8-446f-ac8d-0347b424c037')\"\n",
              "              title=\"Convert this dataframe to an interactive table.\"\n",
              "              style=\"display:none;\">\n",
              "        \n",
              "  <svg xmlns=\"http://www.w3.org/2000/svg\" height=\"24px\"viewBox=\"0 0 24 24\"\n",
              "       width=\"24px\">\n",
              "    <path d=\"M0 0h24v24H0V0z\" fill=\"none\"/>\n",
              "    <path d=\"M18.56 5.44l.94 2.06.94-2.06 2.06-.94-2.06-.94-.94-2.06-.94 2.06-2.06.94zm-11 1L8.5 8.5l.94-2.06 2.06-.94-2.06-.94L8.5 2.5l-.94 2.06-2.06.94zm10 10l.94 2.06.94-2.06 2.06-.94-2.06-.94-.94-2.06-.94 2.06-2.06.94z\"/><path d=\"M17.41 7.96l-1.37-1.37c-.4-.4-.92-.59-1.43-.59-.52 0-1.04.2-1.43.59L10.3 9.45l-7.72 7.72c-.78.78-.78 2.05 0 2.83L4 21.41c.39.39.9.59 1.41.59.51 0 1.02-.2 1.41-.59l7.78-7.78 2.81-2.81c.8-.78.8-2.07 0-2.86zM5.41 20L4 18.59l7.72-7.72 1.47 1.35L5.41 20z\"/>\n",
              "  </svg>\n",
              "      </button>\n",
              "      \n",
              "  <style>\n",
              "    .colab-df-container {\n",
              "      display:flex;\n",
              "      flex-wrap:wrap;\n",
              "      gap: 12px;\n",
              "    }\n",
              "\n",
              "    .colab-df-convert {\n",
              "      background-color: #E8F0FE;\n",
              "      border: none;\n",
              "      border-radius: 50%;\n",
              "      cursor: pointer;\n",
              "      display: none;\n",
              "      fill: #1967D2;\n",
              "      height: 32px;\n",
              "      padding: 0 0 0 0;\n",
              "      width: 32px;\n",
              "    }\n",
              "\n",
              "    .colab-df-convert:hover {\n",
              "      background-color: #E2EBFA;\n",
              "      box-shadow: 0px 1px 2px rgba(60, 64, 67, 0.3), 0px 1px 3px 1px rgba(60, 64, 67, 0.15);\n",
              "      fill: #174EA6;\n",
              "    }\n",
              "\n",
              "    [theme=dark] .colab-df-convert {\n",
              "      background-color: #3B4455;\n",
              "      fill: #D2E3FC;\n",
              "    }\n",
              "\n",
              "    [theme=dark] .colab-df-convert:hover {\n",
              "      background-color: #434B5C;\n",
              "      box-shadow: 0px 1px 3px 1px rgba(0, 0, 0, 0.15);\n",
              "      filter: drop-shadow(0px 1px 2px rgba(0, 0, 0, 0.3));\n",
              "      fill: #FFFFFF;\n",
              "    }\n",
              "  </style>\n",
              "\n",
              "      <script>\n",
              "        const buttonEl =\n",
              "          document.querySelector('#df-d11cde79-13d8-446f-ac8d-0347b424c037 button.colab-df-convert');\n",
              "        buttonEl.style.display =\n",
              "          google.colab.kernel.accessAllowed ? 'block' : 'none';\n",
              "\n",
              "        async function convertToInteractive(key) {\n",
              "          const element = document.querySelector('#df-d11cde79-13d8-446f-ac8d-0347b424c037');\n",
              "          const dataTable =\n",
              "            await google.colab.kernel.invokeFunction('convertToInteractive',\n",
              "                                                     [key], {});\n",
              "          if (!dataTable) return;\n",
              "\n",
              "          const docLinkHtml = 'Like what you see? Visit the ' +\n",
              "            '<a target=\"_blank\" href=https://colab.research.google.com/notebooks/data_table.ipynb>data table notebook</a>'\n",
              "            + ' to learn more about interactive tables.';\n",
              "          element.innerHTML = '';\n",
              "          dataTable['output_type'] = 'display_data';\n",
              "          await google.colab.output.renderOutput(dataTable, element);\n",
              "          const docLink = document.createElement('div');\n",
              "          docLink.innerHTML = docLinkHtml;\n",
              "          element.appendChild(docLink);\n",
              "        }\n",
              "      </script>\n",
              "    </div>\n",
              "  </div>\n",
              "  "
            ],
            "text/plain": [
              "            order_time  order_id  ... session_time cancelled_time\n",
              "0  2021-01-26 02:21:35    556753  ...          NaN            NaN\n",
              "1  2021-01-26 02:33:16    556754  ...     3.266667            NaN\n",
              "2  2021-01-26 02:39:49    556755  ...     9.816667            NaN\n",
              "3  2021-01-26 02:47:53    556756  ...    17.533333            NaN\n",
              "4  2021-01-26 03:06:30    556757  ...     1.350000            NaN\n",
              "\n",
              "[5 rows x 20 columns]"
            ]
          },
          "metadata": {},
          "execution_count": 2
        }
      ],
      "source": [
        "df = pd.read_csv('/content/drive/My Drive/Cascade_Cup/train.csv')\n",
        "df.head()"
      ]
    },
    {
      "cell_type": "code",
      "execution_count": 3,
      "metadata": {
        "colab": {
          "base_uri": "https://localhost:8080/"
        },
        "id": "h7d3LhSnH2Pr",
        "outputId": "e65a9103-8947-4437-8c95-6da3c9e83a38"
      },
      "outputs": [
        {
          "output_type": "stream",
          "name": "stdout",
          "text": [
            "450000\n",
            "order_time 0\n",
            "order_id 0\n",
            "order_date 0\n",
            "allot_time 0\n",
            "accept_time 157\n",
            "pickup_time 2421\n",
            "delivered_time 5218\n",
            "rider_id 0\n",
            "first_mile_distance 0\n",
            "last_mile_distance 0\n",
            "alloted_orders 16948\n",
            "delivered_orders 17341\n",
            "cancelled 0\n",
            "undelivered_orders 17341\n",
            "lifetime_order_count 53\n",
            "reassignment_method 436256\n",
            "reassignment_reason 436247\n",
            "reassigned_order 436247\n",
            "session_time 3675\n",
            "cancelled_time 444782\n"
          ]
        },
        {
          "output_type": "execute_result",
          "data": {
            "text/plain": [
              "5218"
            ]
          },
          "metadata": {},
          "execution_count": 3
        }
      ],
      "source": [
        "#number of null values in each column\n",
        "print(df.shape[0])\n",
        "for i in df.columns:\n",
        "  print(i, (df[df[i] != df[i]]).shape[0])\n",
        "sum(df.cancelled)"
      ]
    },
    {
      "cell_type": "code",
      "execution_count": 4,
      "metadata": {
        "colab": {
          "base_uri": "https://localhost:8080/",
          "height": 0
        },
        "id": "py2JEUeDPtpN",
        "outputId": "389ec375-fe6b-4524-e5b0-99722c98b0a7"
      },
      "outputs": [
        {
          "output_type": "execute_result",
          "data": {
            "application/vnd.google.colaboratory.intrinsic+json": {
              "type": "string"
            },
            "text/plain": [
              "'2021-01-26 00:00:00'"
            ]
          },
          "metadata": {},
          "execution_count": 4
        }
      ],
      "source": [
        "#earliest date exist in dataset\n",
        "df['order_date'].min()"
      ]
    },
    {
      "cell_type": "code",
      "execution_count": 5,
      "metadata": {
        "id": "04FsU1cf2I5h"
      },
      "outputs": [],
      "source": [
        "def preprocessing_data_train(df):\n",
        "  df = df.drop(['cancelled_time','pickup_time', 'delivered_time'], axis = 1)\n",
        "  date_time_cols = ['order_time', 'order_date', 'allot_time', 'accept_time']\n",
        "  diff_from = pd.to_datetime('2021-01-26 00:00:00')\n",
        "  for i in date_time_cols:\n",
        "    df[i] = pd.to_datetime(df[i]);\n",
        "    df[i] = (df[i] - diff_from).dt.total_seconds()\n",
        "\n",
        "  # df['reassignment_method'] = df['reassignment_method'].map({'auto':1, 'manual':2})\n",
        "  # df['reassignment_reason'] = df['reassignment_reason'].map({'Reassignment Request from SE portal.' : 1,\n",
        "  #      'Auto Reassignment basis Inaction. coreengine.tasks.repush_order_to_aa_bucket' : 2,\n",
        "  #      'Reassign' : 3})\n",
        "  \n",
        "  \n",
        "  Y = df['cancelled']\n",
        "\n",
        "  #Dropping cols with too many nan values\n",
        "  df = df.drop(['cancelled','rider_id', 'order_id', 'reassignment_method', 'reassignment_reason', 'reassigned_order'], axis = 1)\n",
        "\n",
        "  #feature engineering\n",
        "  df['time_gap'] = df['allot_time'] - df['order_time']\n",
        "  df['time_gap2'] = df['accept_time'] - df['allot_time']\n",
        "  df['delivered_to_undelivered_total'] = df['delivered_orders'] / (df['undelivered_orders'] + df['delivered_orders'])\n",
        "  df['delivered_to_alloted_ratio'] = df['delivered_orders'] / df['alloted_orders']\n",
        "  df['undelivered_to_alloted_ratio'] = df['undelivered_orders'] / df['alloted_orders']\n",
        "  df['total_distance'] = df['first_mile_distance'] + df['last_mile_distance']\n",
        "  df[df.columns] = scaler.fit_transform(df[df.columns])\n",
        "  df = df.fillna(2)\n",
        "  X = df\n",
        "\n",
        "  return X, Y"
      ]
    },
    {
      "cell_type": "code",
      "execution_count": 6,
      "metadata": {
        "colab": {
          "base_uri": "https://localhost:8080/",
          "height": 0
        },
        "id": "fuSJFEjn3dL_",
        "outputId": "d6b2e5b2-b5ec-47d4-fbbc-c991ca8a5b3c"
      },
      "outputs": [
        {
          "output_type": "execute_result",
          "data": {
            "text/html": [
              "\n",
              "  <div id=\"df-ea02827c-56b9-4bf9-b7a5-3ce8458b4b32\">\n",
              "    <div class=\"colab-df-container\">\n",
              "      <div>\n",
              "<style scoped>\n",
              "    .dataframe tbody tr th:only-of-type {\n",
              "        vertical-align: middle;\n",
              "    }\n",
              "\n",
              "    .dataframe tbody tr th {\n",
              "        vertical-align: top;\n",
              "    }\n",
              "\n",
              "    .dataframe thead th {\n",
              "        text-align: right;\n",
              "    }\n",
              "</style>\n",
              "<table border=\"1\" class=\"dataframe\">\n",
              "  <thead>\n",
              "    <tr style=\"text-align: right;\">\n",
              "      <th></th>\n",
              "      <th>order_time</th>\n",
              "      <th>order_date</th>\n",
              "      <th>allot_time</th>\n",
              "      <th>accept_time</th>\n",
              "      <th>first_mile_distance</th>\n",
              "      <th>last_mile_distance</th>\n",
              "      <th>alloted_orders</th>\n",
              "      <th>delivered_orders</th>\n",
              "      <th>undelivered_orders</th>\n",
              "      <th>lifetime_order_count</th>\n",
              "      <th>session_time</th>\n",
              "      <th>time_gap</th>\n",
              "      <th>time_gap2</th>\n",
              "      <th>delivered_to_undelivered_total</th>\n",
              "      <th>delivered_to_alloted_ratio</th>\n",
              "      <th>undelivered_to_alloted_ratio</th>\n",
              "      <th>total_distance</th>\n",
              "    </tr>\n",
              "  </thead>\n",
              "  <tbody>\n",
              "    <tr>\n",
              "      <th>0</th>\n",
              "      <td>0.000000</td>\n",
              "      <td>0.0</td>\n",
              "      <td>0.000000</td>\n",
              "      <td>0.000000</td>\n",
              "      <td>0.037263</td>\n",
              "      <td>0.118251</td>\n",
              "      <td>0.079505</td>\n",
              "      <td>0.080214</td>\n",
              "      <td>0.0</td>\n",
              "      <td>0.020381</td>\n",
              "      <td>2.000000</td>\n",
              "      <td>0.000742</td>\n",
              "      <td>0.968742</td>\n",
              "      <td>1.0</td>\n",
              "      <td>1.0</td>\n",
              "      <td>0.0</td>\n",
              "      <td>0.091945</td>\n",
              "    </tr>\n",
              "    <tr>\n",
              "      <th>1</th>\n",
              "      <td>0.000717</td>\n",
              "      <td>0.0</td>\n",
              "      <td>0.000732</td>\n",
              "      <td>0.000772</td>\n",
              "      <td>0.059959</td>\n",
              "      <td>0.123159</td>\n",
              "      <td>0.012367</td>\n",
              "      <td>0.012478</td>\n",
              "      <td>0.0</td>\n",
              "      <td>0.003446</td>\n",
              "      <td>0.002515</td>\n",
              "      <td>0.001268</td>\n",
              "      <td>0.970065</td>\n",
              "      <td>1.0</td>\n",
              "      <td>1.0</td>\n",
              "      <td>0.0</td>\n",
              "      <td>0.115166</td>\n",
              "    </tr>\n",
              "    <tr>\n",
              "      <th>2</th>\n",
              "      <td>0.001118</td>\n",
              "      <td>0.0</td>\n",
              "      <td>0.001099</td>\n",
              "      <td>0.001106</td>\n",
              "      <td>0.052506</td>\n",
              "      <td>0.214190</td>\n",
              "      <td>0.000000</td>\n",
              "      <td>0.000000</td>\n",
              "      <td>0.0</td>\n",
              "      <td>0.002166</td>\n",
              "      <td>0.007557</td>\n",
              "      <td>0.000247</td>\n",
              "      <td>0.968979</td>\n",
              "      <td>1.0</td>\n",
              "      <td>1.0</td>\n",
              "      <td>0.0</td>\n",
              "      <td>0.152847</td>\n",
              "    </tr>\n",
              "    <tr>\n",
              "      <th>3</th>\n",
              "      <td>0.001613</td>\n",
              "      <td>0.0</td>\n",
              "      <td>0.001617</td>\n",
              "      <td>0.001649</td>\n",
              "      <td>0.052078</td>\n",
              "      <td>0.284694</td>\n",
              "      <td>0.000000</td>\n",
              "      <td>0.000000</td>\n",
              "      <td>0.0</td>\n",
              "      <td>0.004168</td>\n",
              "      <td>0.013498</td>\n",
              "      <td>0.000990</td>\n",
              "      <td>0.969828</td>\n",
              "      <td>1.0</td>\n",
              "      <td>1.0</td>\n",
              "      <td>0.0</td>\n",
              "      <td>0.186933</td>\n",
              "    </tr>\n",
              "    <tr>\n",
              "      <th>4</th>\n",
              "      <td>0.002755</td>\n",
              "      <td>0.0</td>\n",
              "      <td>0.002775</td>\n",
              "      <td>0.002802</td>\n",
              "      <td>0.066294</td>\n",
              "      <td>0.178938</td>\n",
              "      <td>0.058304</td>\n",
              "      <td>0.058824</td>\n",
              "      <td>0.0</td>\n",
              "      <td>0.002757</td>\n",
              "      <td>0.001039</td>\n",
              "      <td>0.001577</td>\n",
              "      <td>0.969658</td>\n",
              "      <td>1.0</td>\n",
              "      <td>1.0</td>\n",
              "      <td>0.0</td>\n",
              "      <td>0.148255</td>\n",
              "    </tr>\n",
              "  </tbody>\n",
              "</table>\n",
              "</div>\n",
              "      <button class=\"colab-df-convert\" onclick=\"convertToInteractive('df-ea02827c-56b9-4bf9-b7a5-3ce8458b4b32')\"\n",
              "              title=\"Convert this dataframe to an interactive table.\"\n",
              "              style=\"display:none;\">\n",
              "        \n",
              "  <svg xmlns=\"http://www.w3.org/2000/svg\" height=\"24px\"viewBox=\"0 0 24 24\"\n",
              "       width=\"24px\">\n",
              "    <path d=\"M0 0h24v24H0V0z\" fill=\"none\"/>\n",
              "    <path d=\"M18.56 5.44l.94 2.06.94-2.06 2.06-.94-2.06-.94-.94-2.06-.94 2.06-2.06.94zm-11 1L8.5 8.5l.94-2.06 2.06-.94-2.06-.94L8.5 2.5l-.94 2.06-2.06.94zm10 10l.94 2.06.94-2.06 2.06-.94-2.06-.94-.94-2.06-.94 2.06-2.06.94z\"/><path d=\"M17.41 7.96l-1.37-1.37c-.4-.4-.92-.59-1.43-.59-.52 0-1.04.2-1.43.59L10.3 9.45l-7.72 7.72c-.78.78-.78 2.05 0 2.83L4 21.41c.39.39.9.59 1.41.59.51 0 1.02-.2 1.41-.59l7.78-7.78 2.81-2.81c.8-.78.8-2.07 0-2.86zM5.41 20L4 18.59l7.72-7.72 1.47 1.35L5.41 20z\"/>\n",
              "  </svg>\n",
              "      </button>\n",
              "      \n",
              "  <style>\n",
              "    .colab-df-container {\n",
              "      display:flex;\n",
              "      flex-wrap:wrap;\n",
              "      gap: 12px;\n",
              "    }\n",
              "\n",
              "    .colab-df-convert {\n",
              "      background-color: #E8F0FE;\n",
              "      border: none;\n",
              "      border-radius: 50%;\n",
              "      cursor: pointer;\n",
              "      display: none;\n",
              "      fill: #1967D2;\n",
              "      height: 32px;\n",
              "      padding: 0 0 0 0;\n",
              "      width: 32px;\n",
              "    }\n",
              "\n",
              "    .colab-df-convert:hover {\n",
              "      background-color: #E2EBFA;\n",
              "      box-shadow: 0px 1px 2px rgba(60, 64, 67, 0.3), 0px 1px 3px 1px rgba(60, 64, 67, 0.15);\n",
              "      fill: #174EA6;\n",
              "    }\n",
              "\n",
              "    [theme=dark] .colab-df-convert {\n",
              "      background-color: #3B4455;\n",
              "      fill: #D2E3FC;\n",
              "    }\n",
              "\n",
              "    [theme=dark] .colab-df-convert:hover {\n",
              "      background-color: #434B5C;\n",
              "      box-shadow: 0px 1px 3px 1px rgba(0, 0, 0, 0.15);\n",
              "      filter: drop-shadow(0px 1px 2px rgba(0, 0, 0, 0.3));\n",
              "      fill: #FFFFFF;\n",
              "    }\n",
              "  </style>\n",
              "\n",
              "      <script>\n",
              "        const buttonEl =\n",
              "          document.querySelector('#df-ea02827c-56b9-4bf9-b7a5-3ce8458b4b32 button.colab-df-convert');\n",
              "        buttonEl.style.display =\n",
              "          google.colab.kernel.accessAllowed ? 'block' : 'none';\n",
              "\n",
              "        async function convertToInteractive(key) {\n",
              "          const element = document.querySelector('#df-ea02827c-56b9-4bf9-b7a5-3ce8458b4b32');\n",
              "          const dataTable =\n",
              "            await google.colab.kernel.invokeFunction('convertToInteractive',\n",
              "                                                     [key], {});\n",
              "          if (!dataTable) return;\n",
              "\n",
              "          const docLinkHtml = 'Like what you see? Visit the ' +\n",
              "            '<a target=\"_blank\" href=https://colab.research.google.com/notebooks/data_table.ipynb>data table notebook</a>'\n",
              "            + ' to learn more about interactive tables.';\n",
              "          element.innerHTML = '';\n",
              "          dataTable['output_type'] = 'display_data';\n",
              "          await google.colab.output.renderOutput(dataTable, element);\n",
              "          const docLink = document.createElement('div');\n",
              "          docLink.innerHTML = docLinkHtml;\n",
              "          element.appendChild(docLink);\n",
              "        }\n",
              "      </script>\n",
              "    </div>\n",
              "  </div>\n",
              "  "
            ],
            "text/plain": [
              "   order_time  order_date  ...  undelivered_to_alloted_ratio  total_distance\n",
              "0    0.000000         0.0  ...                           0.0        0.091945\n",
              "1    0.000717         0.0  ...                           0.0        0.115166\n",
              "2    0.001118         0.0  ...                           0.0        0.152847\n",
              "3    0.001613         0.0  ...                           0.0        0.186933\n",
              "4    0.002755         0.0  ...                           0.0        0.148255\n",
              "\n",
              "[5 rows x 17 columns]"
            ]
          },
          "metadata": {},
          "execution_count": 6
        }
      ],
      "source": [
        "X, Y = preprocessing_data_train(df)\n",
        "X.head()"
      ]
    },
    {
      "cell_type": "markdown",
      "metadata": {
        "id": "KryA7Ra7aV0U"
      },
      "source": [
        "###Correlation Matrix\n",
        "\n",
        "\n"
      ]
    },
    {
      "cell_type": "code",
      "execution_count": 7,
      "metadata": {
        "colab": {
          "base_uri": "https://localhost:8080/",
          "height": 0
        },
        "id": "akldxS7AaUaH",
        "outputId": "4be768d3-7bd1-4eb2-a5d5-8cc0a31f5359"
      },
      "outputs": [
        {
          "output_type": "execute_result",
          "data": {
            "text/plain": [
              "Text(0.5, 1.05, 'Correlation Matrix')"
            ]
          },
          "metadata": {},
          "execution_count": 7
        },
        {
          "output_type": "display_data",
          "data": {
            "image/png": "[encoded data removed]",
            "text/plain": [
              "<Figure size 1368x1080 with 2 Axes>"
            ]
          },
          "metadata": {
            "needs_background": "light"
          }
        }
      ],
      "source": [
        "import matplotlib.pyplot as plt\n",
        "\n",
        "f = plt.figure(figsize=(19, 15))\n",
        "plt.matshow(X.corr(), fignum=f.number)\n",
        "plt.xticks(range(X.select_dtypes(['number']).shape[1]), X.select_dtypes(['number']).columns, fontsize=14, rotation=45)\n",
        "plt.yticks(range(X.select_dtypes(['number']).shape[1]), X.select_dtypes(['number']).columns, fontsize=14)\n",
        "cb = plt.colorbar()\n",
        "cb.ax.tick_params(labelsize=14)\n",
        "plt.title('Correlation Matrix', fontsize=16)"
      ]
    },
    {
      "cell_type": "code",
      "execution_count": 8,
      "metadata": {
        "colab": {
          "base_uri": "https://localhost:8080/"
        },
        "id": "R-1nUhW8E6s9",
        "outputId": "c9bcd65a-1e09-49c5-fe5c-aad682329a8c"
      },
      "outputs": [
        {
          "output_type": "execute_result",
          "data": {
            "text/plain": [
              "(450000, 17)"
            ]
          },
          "metadata": {},
          "execution_count": 8
        }
      ],
      "source": [
        "X.shape"
      ]
    },
    {
      "cell_type": "markdown",
      "metadata": {
        "id": "HTNNO6_phPg2"
      },
      "source": [
        "###Train-Test Split"
      ]
    },
    {
      "cell_type": "code",
      "execution_count": 9,
      "metadata": {
        "colab": {
          "base_uri": "https://localhost:8080/",
          "height": 0
        },
        "id": "531JWKX2hG6T",
        "outputId": "45d3caa1-0a74-4be1-ef3b-08dcf8732d33"
      },
      "outputs": [
        {
          "output_type": "execute_result",
          "data": {
            "text/html": [
              "\n",
              "  <div id=\"df-682fd319-7014-4e65-aed7-ee10e24181c0\">\n",
              "    <div class=\"colab-df-container\">\n",
              "      <div>\n",
              "<style scoped>\n",
              "    .dataframe tbody tr th:only-of-type {\n",
              "        vertical-align: middle;\n",
              "    }\n",
              "\n",
              "    .dataframe tbody tr th {\n",
              "        vertical-align: top;\n",
              "    }\n",
              "\n",
              "    .dataframe thead th {\n",
              "        text-align: right;\n",
              "    }\n",
              "</style>\n",
              "<table border=\"1\" class=\"dataframe\">\n",
              "  <thead>\n",
              "    <tr style=\"text-align: right;\">\n",
              "      <th></th>\n",
              "      <th>order_time</th>\n",
              "      <th>order_date</th>\n",
              "      <th>allot_time</th>\n",
              "      <th>accept_time</th>\n",
              "      <th>first_mile_distance</th>\n",
              "      <th>last_mile_distance</th>\n",
              "      <th>alloted_orders</th>\n",
              "      <th>delivered_orders</th>\n",
              "      <th>undelivered_orders</th>\n",
              "      <th>lifetime_order_count</th>\n",
              "      <th>session_time</th>\n",
              "      <th>time_gap</th>\n",
              "      <th>time_gap2</th>\n",
              "      <th>delivered_to_undelivered_total</th>\n",
              "      <th>delivered_to_alloted_ratio</th>\n",
              "      <th>undelivered_to_alloted_ratio</th>\n",
              "      <th>total_distance</th>\n",
              "    </tr>\n",
              "  </thead>\n",
              "  <tbody>\n",
              "    <tr>\n",
              "      <th>17634</th>\n",
              "      <td>0.043030</td>\n",
              "      <td>0.000000</td>\n",
              "      <td>0.042878</td>\n",
              "      <td>0.042910</td>\n",
              "      <td>0.045915</td>\n",
              "      <td>0.186970</td>\n",
              "      <td>0.049470</td>\n",
              "      <td>0.049911</td>\n",
              "      <td>0.000000</td>\n",
              "      <td>0.005908</td>\n",
              "      <td>0.025443</td>\n",
              "      <td>0.000062</td>\n",
              "      <td>0.969794</td>\n",
              "      <td>1.000000</td>\n",
              "      <td>1.000000</td>\n",
              "      <td>0.000000</td>\n",
              "      <td>0.133488</td>\n",
              "    </tr>\n",
              "    <tr>\n",
              "      <th>80295</th>\n",
              "      <td>0.195247</td>\n",
              "      <td>0.181818</td>\n",
              "      <td>0.194637</td>\n",
              "      <td>0.194745</td>\n",
              "      <td>0.061015</td>\n",
              "      <td>0.195002</td>\n",
              "      <td>0.219081</td>\n",
              "      <td>0.221034</td>\n",
              "      <td>0.000000</td>\n",
              "      <td>0.150054</td>\n",
              "      <td>0.089494</td>\n",
              "      <td>0.000031</td>\n",
              "      <td>0.972339</td>\n",
              "      <td>1.000000</td>\n",
              "      <td>1.000000</td>\n",
              "      <td>0.000000</td>\n",
              "      <td>0.151269</td>\n",
              "    </tr>\n",
              "    <tr>\n",
              "      <th>154155</th>\n",
              "      <td>0.319025</td>\n",
              "      <td>0.272727</td>\n",
              "      <td>0.318042</td>\n",
              "      <td>0.318059</td>\n",
              "      <td>0.019239</td>\n",
              "      <td>0.199465</td>\n",
              "      <td>0.031802</td>\n",
              "      <td>0.032086</td>\n",
              "      <td>0.000000</td>\n",
              "      <td>0.002429</td>\n",
              "      <td>0.352626</td>\n",
              "      <td>0.000031</td>\n",
              "      <td>0.969251</td>\n",
              "      <td>1.000000</td>\n",
              "      <td>1.000000</td>\n",
              "      <td>0.000000</td>\n",
              "      <td>0.115127</td>\n",
              "    </tr>\n",
              "    <tr>\n",
              "      <th>345698</th>\n",
              "      <td>0.757574</td>\n",
              "      <td>0.727273</td>\n",
              "      <td>0.755287</td>\n",
              "      <td>0.755313</td>\n",
              "      <td>0.000216</td>\n",
              "      <td>0.190094</td>\n",
              "      <td>0.192580</td>\n",
              "      <td>0.192513</td>\n",
              "      <td>0.111111</td>\n",
              "      <td>0.007746</td>\n",
              "      <td>0.122585</td>\n",
              "      <td>0.000433</td>\n",
              "      <td>0.969556</td>\n",
              "      <td>0.989091</td>\n",
              "      <td>0.989091</td>\n",
              "      <td>0.010909</td>\n",
              "      <td>0.093093</td>\n",
              "    </tr>\n",
              "    <tr>\n",
              "      <th>262875</th>\n",
              "      <td>0.580067</td>\n",
              "      <td>0.545455</td>\n",
              "      <td>0.578338</td>\n",
              "      <td>0.578871</td>\n",
              "      <td>0.018368</td>\n",
              "      <td>0.136546</td>\n",
              "      <td>0.263251</td>\n",
              "      <td>0.263815</td>\n",
              "      <td>0.111111</td>\n",
              "      <td>0.011060</td>\n",
              "      <td>0.262747</td>\n",
              "      <td>0.001175</td>\n",
              "      <td>0.986424</td>\n",
              "      <td>0.992000</td>\n",
              "      <td>0.992000</td>\n",
              "      <td>0.008000</td>\n",
              "      <td>0.083559</td>\n",
              "    </tr>\n",
              "  </tbody>\n",
              "</table>\n",
              "</div>\n",
              "      <button class=\"colab-df-convert\" onclick=\"convertToInteractive('df-682fd319-7014-4e65-aed7-ee10e24181c0')\"\n",
              "              title=\"Convert this dataframe to an interactive table.\"\n",
              "              style=\"display:none;\">\n",
              "        \n",
              "  <svg xmlns=\"http://www.w3.org/2000/svg\" height=\"24px\"viewBox=\"0 0 24 24\"\n",
              "       width=\"24px\">\n",
              "    <path d=\"M0 0h24v24H0V0z\" fill=\"none\"/>\n",
              "    <path d=\"M18.56 5.44l.94 2.06.94-2.06 2.06-.94-2.06-.94-.94-2.06-.94 2.06-2.06.94zm-11 1L8.5 8.5l.94-2.06 2.06-.94-2.06-.94L8.5 2.5l-.94 2.06-2.06.94zm10 10l.94 2.06.94-2.06 2.06-.94-2.06-.94-.94-2.06-.94 2.06-2.06.94z\"/><path d=\"M17.41 7.96l-1.37-1.37c-.4-.4-.92-.59-1.43-.59-.52 0-1.04.2-1.43.59L10.3 9.45l-7.72 7.72c-.78.78-.78 2.05 0 2.83L4 21.41c.39.39.9.59 1.41.59.51 0 1.02-.2 1.41-.59l7.78-7.78 2.81-2.81c.8-.78.8-2.07 0-2.86zM5.41 20L4 18.59l7.72-7.72 1.47 1.35L5.41 20z\"/>\n",
              "  </svg>\n",
              "      </button>\n",
              "      \n",
              "  <style>\n",
              "    .colab-df-container {\n",
              "      display:flex;\n",
              "      flex-wrap:wrap;\n",
              "      gap: 12px;\n",
              "    }\n",
              "\n",
              "    .colab-df-convert {\n",
              "      background-color: #E8F0FE;\n",
              "      border: none;\n",
              "      border-radius: 50%;\n",
              "      cursor: pointer;\n",
              "      display: none;\n",
              "      fill: #1967D2;\n",
              "      height: 32px;\n",
              "      padding: 0 0 0 0;\n",
              "      width: 32px;\n",
              "    }\n",
              "\n",
              "    .colab-df-convert:hover {\n",
              "      background-color: #E2EBFA;\n",
              "      box-shadow: 0px 1px 2px rgba(60, 64, 67, 0.3), 0px 1px 3px 1px rgba(60, 64, 67, 0.15);\n",
              "      fill: #174EA6;\n",
              "    }\n",
              "\n",
              "    [theme=dark] .colab-df-convert {\n",
              "      background-color: #3B4455;\n",
              "      fill: #D2E3FC;\n",
              "    }\n",
              "\n",
              "    [theme=dark] .colab-df-convert:hover {\n",
              "      background-color: #434B5C;\n",
              "      box-shadow: 0px 1px 3px 1px rgba(0, 0, 0, 0.15);\n",
              "      filter: drop-shadow(0px 1px 2px rgba(0, 0, 0, 0.3));\n",
              "      fill: #FFFFFF;\n",
              "    }\n",
              "  </style>\n",
              "\n",
              "      <script>\n",
              "        const buttonEl =\n",
              "          document.querySelector('#df-682fd319-7014-4e65-aed7-ee10e24181c0 button.colab-df-convert');\n",
              "        buttonEl.style.display =\n",
              "          google.colab.kernel.accessAllowed ? 'block' : 'none';\n",
              "\n",
              "        async function convertToInteractive(key) {\n",
              "          const element = document.querySelector('#df-682fd319-7014-4e65-aed7-ee10e24181c0');\n",
              "          const dataTable =\n",
              "            await google.colab.kernel.invokeFunction('convertToInteractive',\n",
              "                                                     [key], {});\n",
              "          if (!dataTable) return;\n",
              "\n",
              "          const docLinkHtml = 'Like what you see? Visit the ' +\n",
              "            '<a target=\"_blank\" href=https://colab.research.google.com/notebooks/data_table.ipynb>data table notebook</a>'\n",
              "            + ' to learn more about interactive tables.';\n",
              "          element.innerHTML = '';\n",
              "          dataTable['output_type'] = 'display_data';\n",
              "          await google.colab.output.renderOutput(dataTable, element);\n",
              "          const docLink = document.createElement('div');\n",
              "          docLink.innerHTML = docLinkHtml;\n",
              "          element.appendChild(docLink);\n",
              "        }\n",
              "      </script>\n",
              "    </div>\n",
              "  </div>\n",
              "  "
            ],
            "text/plain": [
              "        order_time  order_date  ...  undelivered_to_alloted_ratio  total_distance\n",
              "17634     0.043030    0.000000  ...                      0.000000        0.133488\n",
              "80295     0.195247    0.181818  ...                      0.000000        0.151269\n",
              "154155    0.319025    0.272727  ...                      0.000000        0.115127\n",
              "345698    0.757574    0.727273  ...                      0.010909        0.093093\n",
              "262875    0.580067    0.545455  ...                      0.008000        0.083559\n",
              "\n",
              "[5 rows x 17 columns]"
            ]
          },
          "metadata": {},
          "execution_count": 9
        }
      ],
      "source": [
        "from sklearn.model_selection import train_test_split\n",
        "X_train, X_test, Y_train, Y_test = train_test_split(X, Y, train_size=0.9, test_size=0.1)\n",
        "X_train.head()"
      ]
    },
    {
      "cell_type": "code",
      "execution_count": 10,
      "metadata": {
        "colab": {
          "base_uri": "https://localhost:8080/"
        },
        "id": "XnJixjTZ5Ksk",
        "outputId": "8b47d710-b832-4faa-d732-d33572f7a73d"
      },
      "outputs": [
        {
          "output_type": "stream",
          "name": "stdout",
          "text": [
            "(405000, 17)\n",
            "(405000,)\n",
            "(45000, 17)\n",
            "(45000,)\n"
          ]
        }
      ],
      "source": [
        "print(X_train.shape)\n",
        "print(Y_train.shape)\n",
        "print(X_test.shape)\n",
        "print(Y_test.shape)"
      ]
    },
    {
      "cell_type": "markdown",
      "metadata": {
        "id": "eZ48TVUQb9Hf"
      },
      "source": [
        "#Test Data"
      ]
    },
    {
      "cell_type": "markdown",
      "metadata": {
        "id": "Kh8kk7TpdH3g"
      },
      "source": [
        "###Preprocessing Test Data"
      ]
    },
    {
      "cell_type": "code",
      "execution_count": 11,
      "metadata": {
        "id": "grh4Ul-C6JPl"
      },
      "outputs": [],
      "source": [
        "df_test = pd.read_csv('/content/drive/My Drive/Cascade_Cup/test.csv')"
      ]
    },
    {
      "cell_type": "code",
      "execution_count": 12,
      "metadata": {
        "id": "X4ewbwQfgGM-"
      },
      "outputs": [],
      "source": [
        "IDs = df_test['order_id']"
      ]
    },
    {
      "cell_type": "code",
      "execution_count": 13,
      "metadata": {
        "id": "ppmbK7dE39s5"
      },
      "outputs": [],
      "source": [
        "def preprocessing_data_test(df):\n",
        "  date_time_cols = ['order_time', 'order_date', 'allot_time', 'accept_time']\n",
        "  diff_from = pd.to_datetime('2021-01-26 00:00:00')\n",
        "  for i in date_time_cols:\n",
        "    df[i] = pd.to_datetime(df[i]);\n",
        "    df[i] = (df[i] - diff_from).dt.total_seconds()\n",
        "\n",
        "  # df['reassignment_method'] = df['reassignment_method'].map({'auto':1, 'manual':2})\n",
        "  # df['reassignment_reason'] = df['reassignment_reason'].map({'Reassignment Request from SE portal.' : 1,\n",
        "  #      'Auto Reassignment basis Inaction. coreengine.tasks.repush_order_to_aa_bucket' : 2,\n",
        "  #      'Reassign' : 3})\n",
        "  df = df.drop(['rider_id', 'order_id', 'reassignment_method', 'reassignment_reason', 'reassigned_order'], axis = 1)\n",
        "  df = df.fillna(0)\n",
        "  df['time_gap'] = df['allot_time'] - df['order_time']\n",
        "  df['time_gap2'] = df['accept_time'] - df['allot_time']\n",
        "  df['delivered_to_undelivered_total'] = df['delivered_orders'] / (df['undelivered_orders'] + df['delivered_orders'])\n",
        "  df['delivered_to_alloted_ratio'] = df['delivered_orders'] / df['alloted_orders']\n",
        "  df['undelivered_to_alloted_ratio'] = df['undelivered_orders'] / df['alloted_orders']\n",
        "  df['total_distance'] = df['first_mile_distance'] + df['last_mile_distance']\n",
        "  df[df.columns] = scaler.fit_transform(df[df.columns])\n",
        "  df = df.fillna(2)\n",
        "  X = df\n",
        "\n",
        "  return X"
      ]
    },
    {
      "cell_type": "code",
      "execution_count": 14,
      "metadata": {
        "colab": {
          "base_uri": "https://localhost:8080/",
          "height": 0
        },
        "id": "i1EQ1FiDlckn",
        "outputId": "6bfe3c34-a673-451b-ee13-712b4d1e36a7"
      },
      "outputs": [
        {
          "output_type": "execute_result",
          "data": {
            "text/html": [
              "\n",
              "  <div id=\"df-132b4130-04ed-4e5c-964f-b3a9692160ae\">\n",
              "    <div class=\"colab-df-container\">\n",
              "      <div>\n",
              "<style scoped>\n",
              "    .dataframe tbody tr th:only-of-type {\n",
              "        vertical-align: middle;\n",
              "    }\n",
              "\n",
              "    .dataframe tbody tr th {\n",
              "        vertical-align: top;\n",
              "    }\n",
              "\n",
              "    .dataframe thead th {\n",
              "        text-align: right;\n",
              "    }\n",
              "</style>\n",
              "<table border=\"1\" class=\"dataframe\">\n",
              "  <thead>\n",
              "    <tr style=\"text-align: right;\">\n",
              "      <th></th>\n",
              "      <th>order_time</th>\n",
              "      <th>order_date</th>\n",
              "      <th>allot_time</th>\n",
              "      <th>accept_time</th>\n",
              "      <th>first_mile_distance</th>\n",
              "      <th>last_mile_distance</th>\n",
              "      <th>alloted_orders</th>\n",
              "      <th>delivered_orders</th>\n",
              "      <th>undelivered_orders</th>\n",
              "      <th>lifetime_order_count</th>\n",
              "      <th>session_time</th>\n",
              "      <th>time_gap</th>\n",
              "      <th>time_gap2</th>\n",
              "      <th>delivered_to_undelivered_total</th>\n",
              "      <th>delivered_to_alloted_ratio</th>\n",
              "      <th>undelivered_to_alloted_ratio</th>\n",
              "      <th>total_distance</th>\n",
              "    </tr>\n",
              "  </thead>\n",
              "  <tbody>\n",
              "    <tr>\n",
              "      <th>0</th>\n",
              "      <td>0.000000</td>\n",
              "      <td>0.0</td>\n",
              "      <td>0.000074</td>\n",
              "      <td>0.768615</td>\n",
              "      <td>0.030325</td>\n",
              "      <td>0.219536</td>\n",
              "      <td>0.387097</td>\n",
              "      <td>0.388788</td>\n",
              "      <td>0.1</td>\n",
              "      <td>0.024517</td>\n",
              "      <td>0.225891</td>\n",
              "      <td>0.002047</td>\n",
              "      <td>0.999262</td>\n",
              "      <td>0.994444</td>\n",
              "      <td>0.995370</td>\n",
              "      <td>0.005556</td>\n",
              "      <td>0.100332</td>\n",
              "    </tr>\n",
              "    <tr>\n",
              "      <th>1</th>\n",
              "      <td>0.000007</td>\n",
              "      <td>0.0</td>\n",
              "      <td>0.000000</td>\n",
              "      <td>0.768585</td>\n",
              "      <td>0.037866</td>\n",
              "      <td>0.282398</td>\n",
              "      <td>0.093190</td>\n",
              "      <td>0.094033</td>\n",
              "      <td>0.0</td>\n",
              "      <td>0.002462</td>\n",
              "      <td>0.208293</td>\n",
              "      <td>0.000082</td>\n",
              "      <td>0.999249</td>\n",
              "      <td>1.000000</td>\n",
              "      <td>1.000000</td>\n",
              "      <td>0.000000</td>\n",
              "      <td>0.128105</td>\n",
              "    </tr>\n",
              "    <tr>\n",
              "      <th>2</th>\n",
              "      <td>0.000010</td>\n",
              "      <td>0.0</td>\n",
              "      <td>0.000158</td>\n",
              "      <td>0.768677</td>\n",
              "      <td>0.025387</td>\n",
              "      <td>0.047872</td>\n",
              "      <td>0.517921</td>\n",
              "      <td>0.522604</td>\n",
              "      <td>0.0</td>\n",
              "      <td>0.072664</td>\n",
              "      <td>0.199438</td>\n",
              "      <td>0.003848</td>\n",
              "      <td>0.999304</td>\n",
              "      <td>1.000000</td>\n",
              "      <td>1.000000</td>\n",
              "      <td>0.000000</td>\n",
              "      <td>0.038376</td>\n",
              "    </tr>\n",
              "    <tr>\n",
              "      <th>3</th>\n",
              "      <td>0.000017</td>\n",
              "      <td>0.0</td>\n",
              "      <td>0.000010</td>\n",
              "      <td>0.768598</td>\n",
              "      <td>0.034812</td>\n",
              "      <td>0.125242</td>\n",
              "      <td>0.224014</td>\n",
              "      <td>0.220615</td>\n",
              "      <td>0.3</td>\n",
              "      <td>0.033477</td>\n",
              "      <td>0.241204</td>\n",
              "      <td>0.000082</td>\n",
              "      <td>0.999260</td>\n",
              "      <td>0.971200</td>\n",
              "      <td>0.976000</td>\n",
              "      <td>0.028800</td>\n",
              "      <td>0.072686</td>\n",
              "    </tr>\n",
              "    <tr>\n",
              "      <th>4</th>\n",
              "      <td>0.000037</td>\n",
              "      <td>0.0</td>\n",
              "      <td>0.000054</td>\n",
              "      <td>0.768637</td>\n",
              "      <td>0.015131</td>\n",
              "      <td>0.045455</td>\n",
              "      <td>0.630824</td>\n",
              "      <td>0.632911</td>\n",
              "      <td>0.2</td>\n",
              "      <td>0.239063</td>\n",
              "      <td>0.204189</td>\n",
              "      <td>0.000655</td>\n",
              "      <td>0.999289</td>\n",
              "      <td>0.993182</td>\n",
              "      <td>0.994318</td>\n",
              "      <td>0.006818</td>\n",
              "      <td>0.028468</td>\n",
              "    </tr>\n",
              "  </tbody>\n",
              "</table>\n",
              "</div>\n",
              "      <button class=\"colab-df-convert\" onclick=\"convertToInteractive('df-132b4130-04ed-4e5c-964f-b3a9692160ae')\"\n",
              "              title=\"Convert this dataframe to an interactive table.\"\n",
              "              style=\"display:none;\">\n",
              "        \n",
              "  <svg xmlns=\"http://www.w3.org/2000/svg\" height=\"24px\"viewBox=\"0 0 24 24\"\n",
              "       width=\"24px\">\n",
              "    <path d=\"M0 0h24v24H0V0z\" fill=\"none\"/>\n",
              "    <path d=\"M18.56 5.44l.94 2.06.94-2.06 2.06-.94-2.06-.94-.94-2.06-.94 2.06-2.06.94zm-11 1L8.5 8.5l.94-2.06 2.06-.94-2.06-.94L8.5 2.5l-.94 2.06-2.06.94zm10 10l.94 2.06.94-2.06 2.06-.94-2.06-.94-.94-2.06-.94 2.06-2.06.94z\"/><path d=\"M17.41 7.96l-1.37-1.37c-.4-.4-.92-.59-1.43-.59-.52 0-1.04.2-1.43.59L10.3 9.45l-7.72 7.72c-.78.78-.78 2.05 0 2.83L4 21.41c.39.39.9.59 1.41.59.51 0 1.02-.2 1.41-.59l7.78-7.78 2.81-2.81c.8-.78.8-2.07 0-2.86zM5.41 20L4 18.59l7.72-7.72 1.47 1.35L5.41 20z\"/>\n",
              "  </svg>\n",
              "      </button>\n",
              "      \n",
              "  <style>\n",
              "    .colab-df-container {\n",
              "      display:flex;\n",
              "      flex-wrap:wrap;\n",
              "      gap: 12px;\n",
              "    }\n",
              "\n",
              "    .colab-df-convert {\n",
              "      background-color: #E8F0FE;\n",
              "      border: none;\n",
              "      border-radius: 50%;\n",
              "      cursor: pointer;\n",
              "      display: none;\n",
              "      fill: #1967D2;\n",
              "      height: 32px;\n",
              "      padding: 0 0 0 0;\n",
              "      width: 32px;\n",
              "    }\n",
              "\n",
              "    .colab-df-convert:hover {\n",
              "      background-color: #E2EBFA;\n",
              "      box-shadow: 0px 1px 2px rgba(60, 64, 67, 0.3), 0px 1px 3px 1px rgba(60, 64, 67, 0.15);\n",
              "      fill: #174EA6;\n",
              "    }\n",
              "\n",
              "    [theme=dark] .colab-df-convert {\n",
              "      background-color: #3B4455;\n",
              "      fill: #D2E3FC;\n",
              "    }\n",
              "\n",
              "    [theme=dark] .colab-df-convert:hover {\n",
              "      background-color: #434B5C;\n",
              "      box-shadow: 0px 1px 3px 1px rgba(0, 0, 0, 0.15);\n",
              "      filter: drop-shadow(0px 1px 2px rgba(0, 0, 0, 0.3));\n",
              "      fill: #FFFFFF;\n",
              "    }\n",
              "  </style>\n",
              "\n",
              "      <script>\n",
              "        const buttonEl =\n",
              "          document.querySelector('#df-132b4130-04ed-4e5c-964f-b3a9692160ae button.colab-df-convert');\n",
              "        buttonEl.style.display =\n",
              "          google.colab.kernel.accessAllowed ? 'block' : 'none';\n",
              "\n",
              "        async function convertToInteractive(key) {\n",
              "          const element = document.querySelector('#df-132b4130-04ed-4e5c-964f-b3a9692160ae');\n",
              "          const dataTable =\n",
              "            await google.colab.kernel.invokeFunction('convertToInteractive',\n",
              "                                                     [key], {});\n",
              "          if (!dataTable) return;\n",
              "\n",
              "          const docLinkHtml = 'Like what you see? Visit the ' +\n",
              "            '<a target=\"_blank\" href=https://colab.research.google.com/notebooks/data_table.ipynb>data table notebook</a>'\n",
              "            + ' to learn more about interactive tables.';\n",
              "          element.innerHTML = '';\n",
              "          dataTable['output_type'] = 'display_data';\n",
              "          await google.colab.output.renderOutput(dataTable, element);\n",
              "          const docLink = document.createElement('div');\n",
              "          docLink.innerHTML = docLinkHtml;\n",
              "          element.appendChild(docLink);\n",
              "        }\n",
              "      </script>\n",
              "    </div>\n",
              "  </div>\n",
              "  "
            ],
            "text/plain": [
              "   order_time  order_date  ...  undelivered_to_alloted_ratio  total_distance\n",
              "0    0.000000         0.0  ...                      0.005556        0.100332\n",
              "1    0.000007         0.0  ...                      0.000000        0.128105\n",
              "2    0.000010         0.0  ...                      0.000000        0.038376\n",
              "3    0.000017         0.0  ...                      0.028800        0.072686\n",
              "4    0.000037         0.0  ...                      0.006818        0.028468\n",
              "\n",
              "[5 rows x 17 columns]"
            ]
          },
          "metadata": {},
          "execution_count": 14
        }
      ],
      "source": [
        "test_X = preprocessing_data_test(df_test)\n",
        "test_X.head()"
      ]
    },
    {
      "cell_type": "code",
      "execution_count": 15,
      "metadata": {
        "colab": {
          "base_uri": "https://localhost:8080/"
        },
        "id": "uVrLk6nFmATM",
        "outputId": "0df07dbe-34ff-413e-e536-f4bd529e7cb7"
      },
      "outputs": [
        {
          "output_type": "execute_result",
          "data": {
            "text/plain": [
              "(144844, 17)"
            ]
          },
          "metadata": {},
          "execution_count": 15
        }
      ],
      "source": [
        "test_X.shape"
      ]
    },
    {
      "cell_type": "markdown",
      "metadata": {
        "id": "M3qyZ7vTYyg6"
      },
      "source": [
        "#Confusion Matix func"
      ]
    },
    {
      "cell_type": "code",
      "execution_count": 16,
      "metadata": {
        "id": "AwPxfxyyY4ZA"
      },
      "outputs": [],
      "source": [
        "from sklearn.metrics import confusion_matrix, ConfusionMatrixDisplay\n",
        "from sklearn.metrics import precision_recall_fscore_support\n",
        "def represent_best(X_train, Y_train, X_test, Y_test, clf, train_score, auc_train_score, test_score, auc_test_score):\n",
        "  print(\"Train Data: \\n\\n\")\n",
        "  print(\"Accuracy:\", train_score, \"\\n\")\n",
        "  print(\"AUC_ROC Score:\", auc_train_score, \"\\n\")\n",
        "  print(\"Confusion Matrix Train\\n\")\n",
        "  cm1 = confusion_matrix(Y_train, clf.predict(X_train) , labels=clf.classes_)\n",
        "  disp1 = ConfusionMatrixDisplay(confusion_matrix=cm1,\n",
        "                           display_labels=clf.classes_)\n",
        "  disp1.plot()\n",
        "  plt.show()\n",
        "\n",
        "  print(\"Test Data: \\n\\n\")\n",
        "  print(\"Accuracy:\", test_score, \"\\n\")\n",
        "  print(\"AUC_ROC Score:\", auc_test_score, \"\\n\")\n",
        "  print(\"Confusion Matrix Train\")\n",
        "  cm2  = confusion_matrix(Y_test, clf.predict(X_test), labels=clf.classes_)\n",
        "  disp2 = ConfusionMatrixDisplay(confusion_matrix=cm2,\n",
        "                           display_labels=clf.classes_)\n",
        "  disp2.plot()\n",
        "  plt.show()"
      ]
    },
    {
      "cell_type": "code",
      "execution_count": 17,
      "metadata": {
        "id": "8W19qVwKZ-Bt"
      },
      "outputs": [],
      "source": [
        "def get_confusion_matrix(pred_train, Y_train, pred_test, Y_test, clf):\n",
        "  print(\"Train Data:\\n\")\n",
        "  cm1 = confusion_matrix(Y_train, pred_train , labels=clf.classes_)\n",
        "  disp1 = ConfusionMatrixDisplay(confusion_matrix=cm1,\n",
        "                           display_labels=clf.classes_)\n",
        "  disp1.plot()\n",
        "  plt.show()\n",
        "\n",
        "  print(\"Test Data:\\n\")\n",
        "  cm2  = confusion_matrix(Y_test, pred_test, labels=clf.classes_)\n",
        "  disp2 = ConfusionMatrixDisplay(confusion_matrix=cm2,\n",
        "                           display_labels=clf.classes_)\n",
        "  disp2.plot()\n",
        "  plt.show()"
      ]
    },
    {
      "cell_type": "markdown",
      "metadata": {
        "id": "tlvNewAUmMXP"
      },
      "source": [
        "#Prediction func"
      ]
    },
    {
      "cell_type": "code",
      "execution_count": 18,
      "metadata": {
        "id": "LDBlCtzVaP5w"
      },
      "outputs": [],
      "source": [
        "def prediction(clf, test_X):\n",
        "  predictions = clf.predict(test_X)\n",
        "  pred = {'order_id': IDs, 'cancelled' : predictions}\n",
        "  submission = pd.DataFrame(data = pred)\n",
        "\n",
        "  return submission"
      ]
    },
    {
      "cell_type": "markdown",
      "metadata": {
        "id": "ghSfHQFTz_Jn"
      },
      "source": [
        "#Logistic Regression\n",
        "Score(kaggle): (0.64 - 0.65)"
      ]
    },
    {
      "cell_type": "markdown",
      "metadata": {
        "id": "K1mgwbH3EXB0"
      },
      "source": [
        "####Model"
      ]
    },
    {
      "cell_type": "code",
      "execution_count": 19,
      "metadata": {
        "id": "flSLFYsT_wMK"
      },
      "outputs": [],
      "source": [
        "from sklearn.linear_model import LogisticRegression\n",
        "def Logistic_reg(X_train, Y_train, X_test, Y_test, tol_val, C_val, max_iter_val):\n",
        "  clf = LogisticRegression(penalty='l2', class_weight='balanced', tol=tol_val, C=C_val, random_state=0, max_iter = max_iter_val).fit(X_train, Y_train)\n",
        "  train_score = clf.score(X_train, Y_train)\n",
        "  test_score = clf.score(X_test, Y_test)\n",
        "  auc_score1 = roc_auc_score(Y_train, clf.predict(X_train))\n",
        "  auc_score2 = roc_auc_score(Y_test, clf.predict(X_test))\n",
        "\n",
        "  return clf, train_score, test_score, auc_score1, auc_score2"
      ]
    },
    {
      "cell_type": "markdown",
      "metadata": {
        "id": "I3yWNxZdEYpV"
      },
      "source": [
        "####Hyperparameter Tuning"
      ]
    },
    {
      "cell_type": "code",
      "execution_count": 20,
      "metadata": {
        "colab": {
          "base_uri": "https://localhost:8080/"
        },
        "id": "SNOvGMysP31B",
        "outputId": "2dcc86a7-cd43-45c0-f99a-8e05690e01bf"
      },
      "outputs": [
        {
          "output_type": "stream",
          "name": "stdout",
          "text": [
            "1  \n",
            "2  \n",
            "3  \n",
            "4  \n",
            "5  \n",
            "6  \n",
            "7  \n",
            "8  \n",
            "9  \n",
            "10  \n",
            "11  \n",
            "12  \n",
            "13  \n",
            "14  \n",
            "15  \n",
            "16  \n",
            "17  \n",
            "18  \n",
            "19  \n",
            "20  \n",
            "21  \n",
            "22  \n",
            "23  \n",
            "24  \n",
            "25  \n",
            "26  \n",
            "27  \n",
            "28  \n",
            "29  \n",
            "30  \n",
            "31  \n",
            "32  \n",
            "33  \n",
            "34  \n",
            "35  \n",
            "36  \n",
            "37  \n",
            "38  \n",
            "39  \n",
            "40  \n",
            "41  \n",
            "42  \n",
            "43  \n",
            "44  \n",
            "45  \n",
            "46  \n",
            "47  \n",
            "48  \n",
            "49  \n"
          ]
        }
      ],
      "source": [
        "max_iter = [1e+4]\n",
        "tol = [1e-6, 1e-5, 1e-4, 1e-3, 1e-2, 1e-1, 1]\n",
        "C = [1, 1e+1, 1e+2, 1e+3, 1e+4, 1e+5, 1e+6]\n",
        "values = []\n",
        "count = 1\n",
        "for k in max_iter:\n",
        "  for i in tol:\n",
        "    for j in C:\n",
        "      print(count,' ')\n",
        "      count = count + 1\n",
        "      clf, train_score, test_score, auc_train_score, auc_test_score = Logistic_reg(X_train, Y_train, X_test, Y_test, i, j, k)\n",
        "      values.append([k, i, j, train_score, test_score, auc_train_score, auc_test_score])"
      ]
    },
    {
      "cell_type": "code",
      "execution_count": 21,
      "metadata": {
        "colab": {
          "base_uri": "https://localhost:8080/",
          "height": 206
        },
        "id": "eqRw-UqcYTF7",
        "outputId": "84cf849b-15de-4648-ba43-c7599bf4875a"
      },
      "outputs": [
        {
          "output_type": "execute_result",
          "data": {
            "text/html": [
              "\n",
              "  <div id=\"df-aebb9bfc-a7a3-4391-898d-e99f2976b8ca\">\n",
              "    <div class=\"colab-df-container\">\n",
              "      <div>\n",
              "<style scoped>\n",
              "    .dataframe tbody tr th:only-of-type {\n",
              "        vertical-align: middle;\n",
              "    }\n",
              "\n",
              "    .dataframe tbody tr th {\n",
              "        vertical-align: top;\n",
              "    }\n",
              "\n",
              "    .dataframe thead th {\n",
              "        text-align: right;\n",
              "    }\n",
              "</style>\n",
              "<table border=\"1\" class=\"dataframe\">\n",
              "  <thead>\n",
              "    <tr style=\"text-align: right;\">\n",
              "      <th></th>\n",
              "      <th>max_iter</th>\n",
              "      <th>tol</th>\n",
              "      <th>C</th>\n",
              "      <th>train_score</th>\n",
              "      <th>test_score</th>\n",
              "      <th>auc_train_score</th>\n",
              "      <th>auc_test_score</th>\n",
              "    </tr>\n",
              "  </thead>\n",
              "  <tbody>\n",
              "    <tr>\n",
              "      <th>0</th>\n",
              "      <td>10000.0</td>\n",
              "      <td>0.000001</td>\n",
              "      <td>1.0</td>\n",
              "      <td>0.831077</td>\n",
              "      <td>0.832578</td>\n",
              "      <td>0.679691</td>\n",
              "      <td>0.672020</td>\n",
              "    </tr>\n",
              "    <tr>\n",
              "      <th>1</th>\n",
              "      <td>10000.0</td>\n",
              "      <td>0.000001</td>\n",
              "      <td>10.0</td>\n",
              "      <td>0.830800</td>\n",
              "      <td>0.832644</td>\n",
              "      <td>0.680077</td>\n",
              "      <td>0.671111</td>\n",
              "    </tr>\n",
              "    <tr>\n",
              "      <th>2</th>\n",
              "      <td>10000.0</td>\n",
              "      <td>0.000001</td>\n",
              "      <td>100.0</td>\n",
              "      <td>0.831037</td>\n",
              "      <td>0.832778</td>\n",
              "      <td>0.680302</td>\n",
              "      <td>0.671178</td>\n",
              "    </tr>\n",
              "    <tr>\n",
              "      <th>3</th>\n",
              "      <td>10000.0</td>\n",
              "      <td>0.000001</td>\n",
              "      <td>1000.0</td>\n",
              "      <td>0.830943</td>\n",
              "      <td>0.832733</td>\n",
              "      <td>0.680255</td>\n",
              "      <td>0.671156</td>\n",
              "    </tr>\n",
              "    <tr>\n",
              "      <th>4</th>\n",
              "      <td>10000.0</td>\n",
              "      <td>0.000001</td>\n",
              "      <td>10000.0</td>\n",
              "      <td>0.830896</td>\n",
              "      <td>0.832622</td>\n",
              "      <td>0.680126</td>\n",
              "      <td>0.671099</td>\n",
              "    </tr>\n",
              "  </tbody>\n",
              "</table>\n",
              "</div>\n",
              "      <button class=\"colab-df-convert\" onclick=\"convertToInteractive('df-aebb9bfc-a7a3-4391-898d-e99f2976b8ca')\"\n",
              "              title=\"Convert this dataframe to an interactive table.\"\n",
              "              style=\"display:none;\">\n",
              "        \n",
              "  <svg xmlns=\"http://www.w3.org/2000/svg\" height=\"24px\"viewBox=\"0 0 24 24\"\n",
              "       width=\"24px\">\n",
              "    <path d=\"M0 0h24v24H0V0z\" fill=\"none\"/>\n",
              "    <path d=\"M18.56 5.44l.94 2.06.94-2.06 2.06-.94-2.06-.94-.94-2.06-.94 2.06-2.06.94zm-11 1L8.5 8.5l.94-2.06 2.06-.94-2.06-.94L8.5 2.5l-.94 2.06-2.06.94zm10 10l.94 2.06.94-2.06 2.06-.94-2.06-.94-.94-2.06-.94 2.06-2.06.94z\"/><path d=\"M17.41 7.96l-1.37-1.37c-.4-.4-.92-.59-1.43-.59-.52 0-1.04.2-1.43.59L10.3 9.45l-7.72 7.72c-.78.78-.78 2.05 0 2.83L4 21.41c.39.39.9.59 1.41.59.51 0 1.02-.2 1.41-.59l7.78-7.78 2.81-2.81c.8-.78.8-2.07 0-2.86zM5.41 20L4 18.59l7.72-7.72 1.47 1.35L5.41 20z\"/>\n",
              "  </svg>\n",
              "      </button>\n",
              "      \n",
              "  <style>\n",
              "    .colab-df-container {\n",
              "      display:flex;\n",
              "      flex-wrap:wrap;\n",
              "      gap: 12px;\n",
              "    }\n",
              "\n",
              "    .colab-df-convert {\n",
              "      background-color: #E8F0FE;\n",
              "      border: none;\n",
              "      border-radius: 50%;\n",
              "      cursor: pointer;\n",
              "      display: none;\n",
              "      fill: #1967D2;\n",
              "      height: 32px;\n",
              "      padding: 0 0 0 0;\n",
              "      width: 32px;\n",
              "    }\n",
              "\n",
              "    .colab-df-convert:hover {\n",
              "      background-color: #E2EBFA;\n",
              "      box-shadow: 0px 1px 2px rgba(60, 64, 67, 0.3), 0px 1px 3px 1px rgba(60, 64, 67, 0.15);\n",
              "      fill: #174EA6;\n",
              "    }\n",
              "\n",
              "    [theme=dark] .colab-df-convert {\n",
              "      background-color: #3B4455;\n",
              "      fill: #D2E3FC;\n",
              "    }\n",
              "\n",
              "    [theme=dark] .colab-df-convert:hover {\n",
              "      background-color: #434B5C;\n",
              "      box-shadow: 0px 1px 3px 1px rgba(0, 0, 0, 0.15);\n",
              "      filter: drop-shadow(0px 1px 2px rgba(0, 0, 0, 0.3));\n",
              "      fill: #FFFFFF;\n",
              "    }\n",
              "  </style>\n",
              "\n",
              "      <script>\n",
              "        const buttonEl =\n",
              "          document.querySelector('#df-aebb9bfc-a7a3-4391-898d-e99f2976b8ca button.colab-df-convert');\n",
              "        buttonEl.style.display =\n",
              "          google.colab.kernel.accessAllowed ? 'block' : 'none';\n",
              "\n",
              "        async function convertToInteractive(key) {\n",
              "          const element = document.querySelector('#df-aebb9bfc-a7a3-4391-898d-e99f2976b8ca');\n",
              "          const dataTable =\n",
              "            await google.colab.kernel.invokeFunction('convertToInteractive',\n",
              "                                                     [key], {});\n",
              "          if (!dataTable) return;\n",
              "\n",
              "          const docLinkHtml = 'Like what you see? Visit the ' +\n",
              "            '<a target=\"_blank\" href=https://colab.research.google.com/notebooks/data_table.ipynb>data table notebook</a>'\n",
              "            + ' to learn more about interactive tables.';\n",
              "          element.innerHTML = '';\n",
              "          dataTable['output_type'] = 'display_data';\n",
              "          await google.colab.output.renderOutput(dataTable, element);\n",
              "          const docLink = document.createElement('div');\n",
              "          docLink.innerHTML = docLinkHtml;\n",
              "          element.appendChild(docLink);\n",
              "        }\n",
              "      </script>\n",
              "    </div>\n",
              "  </div>\n",
              "  "
            ],
            "text/plain": [
              "   max_iter       tol        C  ...  test_score  auc_train_score  auc_test_score\n",
              "0   10000.0  0.000001      1.0  ...    0.832578         0.679691        0.672020\n",
              "1   10000.0  0.000001     10.0  ...    0.832644         0.680077        0.671111\n",
              "2   10000.0  0.000001    100.0  ...    0.832778         0.680302        0.671178\n",
              "3   10000.0  0.000001   1000.0  ...    0.832733         0.680255        0.671156\n",
              "4   10000.0  0.000001  10000.0  ...    0.832622         0.680126        0.671099\n",
              "\n",
              "[5 rows x 7 columns]"
            ]
          },
          "metadata": {},
          "execution_count": 21
        }
      ],
      "source": [
        "values_tables = pd.DataFrame(values, columns = ['max_iter', 'tol','C','train_score', 'test_score', 'auc_train_score', 'auc_test_score'])\n",
        "values_tables.head()"
      ]
    },
    {
      "cell_type": "markdown",
      "metadata": {
        "id": "JWWbQXCzFeRm"
      },
      "source": [
        "Accuracy Vs AUR_ROC"
      ]
    },
    {
      "cell_type": "code",
      "execution_count": 22,
      "metadata": {
        "colab": {
          "base_uri": "https://localhost:8080/",
          "height": 282
        },
        "id": "PuTMs5T1FObd",
        "outputId": "92dc9f78-cb5f-4b0b-fb79-289cfa5ca5d4"
      },
      "outputs": [
        {
          "output_type": "execute_result",
          "data": {
            "text/plain": [
              "[<matplotlib.lines.Line2D at 0x7f216f595f50>]"
            ]
          },
          "metadata": {},
          "execution_count": 22
        },
        {
          "output_type": "display_data",
          "data": {
            "image/png": "[encoded data removed]",
            "text/plain": [
              "<Figure size 432x288 with 1 Axes>"
            ]
          },
          "metadata": {
            "needs_background": "light"
          }
        }
      ],
      "source": [
        "plt.plot(values_tables['train_score'], values_tables['auc_train_score'])"
      ]
    },
    {
      "cell_type": "code",
      "execution_count": 23,
      "metadata": {
        "colab": {
          "base_uri": "https://localhost:8080/",
          "height": 282
        },
        "id": "x26irGtAFIdE",
        "outputId": "3f7efcdf-487b-46fc-8e6c-d466a460a466"
      },
      "outputs": [
        {
          "output_type": "execute_result",
          "data": {
            "text/plain": [
              "[<matplotlib.lines.Line2D at 0x7f216fccc550>]"
            ]
          },
          "metadata": {},
          "execution_count": 23
        },
        {
          "output_type": "display_data",
          "data": {
            "image/png": "[encoded data removed]",
            "text/plain": [
              "<Figure size 432x288 with 1 Axes>"
            ]
          },
          "metadata": {
            "needs_background": "light"
          }
        }
      ],
      "source": [
        "plt.plot(values_tables['test_score'], values_tables['auc_test_score'])"
      ]
    },
    {
      "cell_type": "code",
      "execution_count": 24,
      "metadata": {
        "colab": {
          "base_uri": "https://localhost:8080/"
        },
        "id": "bW_Ct2ejKv1c",
        "outputId": "11f2ccf7-df08-4fed-f353-77df81c6b850"
      },
      "outputs": [
        {
          "output_type": "stream",
          "name": "stdout",
          "text": [
            "Test Accuracy: 0.8327777777777777 \n",
            " AUC_ROC Test Score: 0.6720198697093002 \n",
            " Train Accuracy: 0.8310765432098766 \n",
            " AUC_ROC Train Score: 0.6803023233029885\n"
          ]
        }
      ],
      "source": [
        "print(\"Test Accuracy:\", values_tables['test_score'].max(), \"\\n\", \"AUC_ROC Test Score:\", values_tables['auc_test_score'].max(), \"\\n\", \"Train Accuracy:\", values_tables['train_score'].max(),\"\\n\", \"AUC_ROC Train Score:\", values_tables['auc_train_score'].max())"
      ]
    },
    {
      "cell_type": "code",
      "execution_count": 25,
      "metadata": {
        "colab": {
          "base_uri": "https://localhost:8080/"
        },
        "id": "s33WmU_wLIu8",
        "outputId": "e2368bc5-72cc-4d83-ea5f-cd0f33de4b60"
      },
      "outputs": [
        {
          "output_type": "stream",
          "name": "stdout",
          "text": [
            "test_accuracy_idx: 2 \n",
            "auc_test_score_idx: 0 \n",
            "train_accuracy_idx: 0 \n",
            "aur_train_accuracy_idx: 2\n"
          ]
        }
      ],
      "source": [
        "print('test_accuracy_idx:', values_tables['test_score'].idxmax(), '\\nauc_test_score_idx:', values_tables['auc_test_score'].idxmax(), '\\ntrain_accuracy_idx:', values_tables['train_score'].idxmax(), '\\naur_train_accuracy_idx:', values_tables['auc_train_score'].idxmax())"
      ]
    },
    {
      "cell_type": "markdown",
      "metadata": {
        "id": "hS5yzjBsFtlr"
      },
      "source": [
        "Getting Hyperparameters with best scores"
      ]
    },
    {
      "cell_type": "code",
      "execution_count": 26,
      "metadata": {
        "colab": {
          "base_uri": "https://localhost:8080/"
        },
        "id": "XZKOw5XbLiOh",
        "outputId": "4fb703b0-3671-4a2d-8225-0215ac167703"
      },
      "outputs": [
        {
          "output_type": "stream",
          "name": "stdout",
          "text": [
            "   max_iter       tol    C  ...  test_score  auc_train_score  auc_test_score\n",
            "0   10000.0  0.000001  1.0  ...    0.832578         0.679691         0.67202\n",
            "\n",
            "[1 rows x 7 columns]\n",
            "   max_iter       tol      C  ...  test_score  auc_train_score  auc_test_score\n",
            "2   10000.0  0.000001  100.0  ...    0.832778         0.680302        0.671178\n",
            "\n",
            "[1 rows x 7 columns]\n"
          ]
        }
      ],
      "source": [
        "for i in [0, 2]:\n",
        "  print(values_tables[i:(i+1)])"
      ]
    },
    {
      "cell_type": "markdown",
      "metadata": {
        "id": "XwaVGKiZYWtS"
      },
      "source": [
        "Final Model"
      ]
    },
    {
      "cell_type": "code",
      "execution_count": 28,
      "metadata": {
        "colab": {
          "base_uri": "https://localhost:8080/"
        },
        "id": "Y9HP42xjZosD",
        "outputId": "a713b518-5d7d-4c27-f879-7d65fd3a662d"
      },
      "outputs": [
        {
          "output_type": "stream",
          "name": "stdout",
          "text": [
            "Train Accuracy: 0.8325333333333333 \n",
            " AUR_ROC Score Train: 0.6795809999515028 \n",
            " Test Accuracy: 0.8344888888888888 \n",
            " AUC_ROC Score Test: 0.6729866832716709 \n",
            "\n"
          ]
        }
      ],
      "source": [
        "clf_logistic, train_score_logistic, test_score_logistic, auc_train_score_logistic, auc_test_score_logistic = Logistic_reg(X, Y, X_test, Y_test, 0.000001, 1.0 ,1e+7)\n",
        "print(\"Train Accuracy:\", train_score_logistic, \"\\n\", \"AUR_ROC Score Train:\", auc_train_score_logistic, \"\\n\", \"Test Accuracy:\", test_score_logistic, \"\\n\", \"AUC_ROC Score Test:\", auc_test_score_logistic, \"\\n\")"
      ]
    },
    {
      "cell_type": "markdown",
      "metadata": {
        "id": "EYGSeb5nY6gU"
      },
      "source": [
        "Confusion Matix"
      ]
    },
    {
      "cell_type": "code",
      "execution_count": 29,
      "metadata": {
        "colab": {
          "base_uri": "https://localhost:8080/",
          "height": 836
        },
        "id": "t6UUoxFyY6vv",
        "outputId": "3c18f544-ff5e-48bd-d309-ec4d94be7477"
      },
      "outputs": [
        {
          "output_type": "stream",
          "name": "stdout",
          "text": [
            "Train Data: \n",
            "\n",
            "\n",
            "Accuracy: 0.8325333333333333 \n",
            "\n",
            "AUC_ROC Score: 0.6795809999515028 \n",
            "\n",
            "Confusion Matrix Train\n",
            "\n"
          ]
        },
        {
          "output_type": "display_data",
          "data": {
            "image/png": "[encoded data removed]",
            "text/plain": [
              "<Figure size 432x288 with 2 Axes>"
            ]
          },
          "metadata": {
            "needs_background": "light"
          }
        },
        {
          "output_type": "stream",
          "name": "stdout",
          "text": [
            "Test Data: \n",
            "\n",
            "\n",
            "Accuracy: 0.8344888888888888 \n",
            "\n",
            "AUC_ROC Score: 0.6729866832716709 \n",
            "\n",
            "Confusion Matrix Train\n"
          ]
        },
        {
          "output_type": "display_data",
          "data": {
            "image/png": "[encoded data removed]",
            "text/plain": [
              "<Figure size 432x288 with 2 Axes>"
            ]
          },
          "metadata": {
            "needs_background": "light"
          }
        }
      ],
      "source": [
        "represent_best(X_train, Y_train, X_test, Y_test, clf_logistic, train_score_logistic, auc_train_score_logistic, test_score_logistic, auc_test_score_logistic)"
      ]
    },
    {
      "cell_type": "code",
      "execution_count": 30,
      "metadata": {
        "colab": {
          "base_uri": "https://localhost:8080/"
        },
        "id": "C_SQtCigr5CQ",
        "outputId": "45aa1af8-4076-4cf0-fd0d-460fef07187a"
      },
      "outputs": [
        {
          "output_type": "execute_result",
          "data": {
            "text/plain": [
              "(144844, 17)"
            ]
          },
          "metadata": {},
          "execution_count": 30
        }
      ],
      "source": [
        "test_X.shape"
      ]
    },
    {
      "cell_type": "markdown",
      "metadata": {
        "id": "X5wZIiaUaijA"
      },
      "source": [
        "Prediction"
      ]
    },
    {
      "cell_type": "code",
      "execution_count": 31,
      "metadata": {
        "id": "9nxeP20UaiB2"
      },
      "outputs": [],
      "source": [
        "result_logistic = prediction(clf_logistic, test_X)\n",
        "result_logistic.to_csv('result_logistic.csv', index = False)"
      ]
    },
    {
      "cell_type": "markdown",
      "metadata": {
        "id": "BHIZ8gclqaeH"
      },
      "source": [
        "#Random Forest\n",
        "Score(kaggle): (0.64 - 0.67)"
      ]
    },
    {
      "cell_type": "markdown",
      "metadata": {
        "id": "7MRioCH3bUiI"
      },
      "source": [
        "####Model"
      ]
    },
    {
      "cell_type": "code",
      "execution_count": 32,
      "metadata": {
        "id": "qjVRxykBVtZr"
      },
      "outputs": [],
      "source": [
        "from sklearn.ensemble import RandomForestClassifier\n",
        "def random_forest(X_train, Y_train, X_test, Y_test, no_of_trees_val, max_depth_val):\n",
        "      clf = RandomForestClassifier(n_estimators = no_of_trees_val, max_depth = max_depth_val,\n",
        "                                   random_state=0,class_weight= \"balanced\").fit(X_train, Y_train)\n",
        "      train_score = clf.score(X_train, Y_train)\n",
        "      test_score = clf.score(X_test, Y_test)\n",
        "      auc_score1 = roc_auc_score(Y_train, clf.predict(X_train))\n",
        "      auc_score2 = roc_auc_score(Y_test, clf.predict(X_test))\n",
        "\n",
        "      return clf, train_score, test_score, auc_score1, auc_score2"
      ]
    },
    {
      "cell_type": "code",
      "execution_count": 33,
      "metadata": {
        "colab": {
          "base_uri": "https://localhost:8080/"
        },
        "id": "QV5Q0-_kRJv8",
        "outputId": "1be7439b-b053-4140-9382-6ec848bb979a"
      },
      "outputs": [
        {
          "output_type": "stream",
          "name": "stdout",
          "text": [
            "1  \n",
            "2  \n",
            "3  \n",
            "4  \n",
            "5  \n",
            "6  \n",
            "7  \n",
            "8  \n",
            "9  \n",
            "10  \n",
            "11  \n",
            "12  \n",
            "13  \n",
            "14  \n",
            "15  \n",
            "16  \n",
            "17  \n",
            "18  \n",
            "19  \n",
            "20  \n",
            "21  \n",
            "22  \n",
            "23  \n",
            "24  \n",
            "25  \n",
            "26  \n",
            "27  \n",
            "28  \n",
            "29  \n",
            "30  \n",
            "31  \n",
            "32  \n",
            "33  \n",
            "34  \n",
            "35  \n",
            "36  \n",
            "37  \n",
            "38  \n",
            "39  \n",
            "40  \n",
            "41  \n",
            "42  \n",
            "43  \n",
            "44  \n",
            "45  \n",
            "46  \n",
            "47  \n",
            "48  \n"
          ]
        }
      ],
      "source": [
        "no_of_trees = [1, 2, 5, 10, 15, 20, 50, 100]\n",
        "max_depth = [1, 2, 5, 1e+1, 50, 100]\n",
        "val_random_forest = []\n",
        "count = 1\n",
        "for i in no_of_trees:\n",
        "  for j in max_depth:\n",
        "      print(count,' ')\n",
        "      count = count + 1\n",
        "      clf, train_score, test_score, auc_train_score, auc_test_score = random_forest(X_train, Y_train, X_test, Y_test, i, j)\n",
        "      val_random_forest.append([i, j, train_score, auc_train_score, test_score, auc_test_score])"
      ]
    },
    {
      "cell_type": "code",
      "execution_count": 34,
      "metadata": {
        "colab": {
          "base_uri": "https://localhost:8080/",
          "height": 206
        },
        "id": "Z1pl-AqVRnzG",
        "outputId": "02a65b16-3e96-4bce-c5eb-ef5b9e7f093e"
      },
      "outputs": [
        {
          "output_type": "execute_result",
          "data": {
            "text/html": [
              "\n",
              "  <div id=\"df-aff39765-4eec-4396-bb5d-11c5727fe640\">\n",
              "    <div class=\"colab-df-container\">\n",
              "      <div>\n",
              "<style scoped>\n",
              "    .dataframe tbody tr th:only-of-type {\n",
              "        vertical-align: middle;\n",
              "    }\n",
              "\n",
              "    .dataframe tbody tr th {\n",
              "        vertical-align: top;\n",
              "    }\n",
              "\n",
              "    .dataframe thead th {\n",
              "        text-align: right;\n",
              "    }\n",
              "</style>\n",
              "<table border=\"1\" class=\"dataframe\">\n",
              "  <thead>\n",
              "    <tr style=\"text-align: right;\">\n",
              "      <th></th>\n",
              "      <th>no_of_trees</th>\n",
              "      <th>max_depth</th>\n",
              "      <th>train_score</th>\n",
              "      <th>auc_train_score</th>\n",
              "      <th>test_score</th>\n",
              "      <th>auc_test_score</th>\n",
              "    </tr>\n",
              "  </thead>\n",
              "  <tbody>\n",
              "    <tr>\n",
              "      <th>0</th>\n",
              "      <td>1</td>\n",
              "      <td>1.0</td>\n",
              "      <td>0.952099</td>\n",
              "      <td>0.564163</td>\n",
              "      <td>0.951511</td>\n",
              "      <td>0.561512</td>\n",
              "    </tr>\n",
              "    <tr>\n",
              "      <th>1</th>\n",
              "      <td>1</td>\n",
              "      <td>2.0</td>\n",
              "      <td>0.947914</td>\n",
              "      <td>0.587942</td>\n",
              "      <td>0.947489</td>\n",
              "      <td>0.586823</td>\n",
              "    </tr>\n",
              "    <tr>\n",
              "      <th>2</th>\n",
              "      <td>1</td>\n",
              "      <td>5.0</td>\n",
              "      <td>0.858370</td>\n",
              "      <td>0.641600</td>\n",
              "      <td>0.859733</td>\n",
              "      <td>0.635781</td>\n",
              "    </tr>\n",
              "    <tr>\n",
              "      <th>3</th>\n",
              "      <td>1</td>\n",
              "      <td>10.0</td>\n",
              "      <td>0.858477</td>\n",
              "      <td>0.678708</td>\n",
              "      <td>0.858356</td>\n",
              "      <td>0.657715</td>\n",
              "    </tr>\n",
              "    <tr>\n",
              "      <th>4</th>\n",
              "      <td>1</td>\n",
              "      <td>50.0</td>\n",
              "      <td>0.992477</td>\n",
              "      <td>0.832184</td>\n",
              "      <td>0.980044</td>\n",
              "      <td>0.544829</td>\n",
              "    </tr>\n",
              "  </tbody>\n",
              "</table>\n",
              "</div>\n",
              "      <button class=\"colab-df-convert\" onclick=\"convertToInteractive('df-aff39765-4eec-4396-bb5d-11c5727fe640')\"\n",
              "              title=\"Convert this dataframe to an interactive table.\"\n",
              "              style=\"display:none;\">\n",
              "        \n",
              "  <svg xmlns=\"http://www.w3.org/2000/svg\" height=\"24px\"viewBox=\"0 0 24 24\"\n",
              "       width=\"24px\">\n",
              "    <path d=\"M0 0h24v24H0V0z\" fill=\"none\"/>\n",
              "    <path d=\"M18.56 5.44l.94 2.06.94-2.06 2.06-.94-2.06-.94-.94-2.06-.94 2.06-2.06.94zm-11 1L8.5 8.5l.94-2.06 2.06-.94-2.06-.94L8.5 2.5l-.94 2.06-2.06.94zm10 10l.94 2.06.94-2.06 2.06-.94-2.06-.94-.94-2.06-.94 2.06-2.06.94z\"/><path d=\"M17.41 7.96l-1.37-1.37c-.4-.4-.92-.59-1.43-.59-.52 0-1.04.2-1.43.59L10.3 9.45l-7.72 7.72c-.78.78-.78 2.05 0 2.83L4 21.41c.39.39.9.59 1.41.59.51 0 1.02-.2 1.41-.59l7.78-7.78 2.81-2.81c.8-.78.8-2.07 0-2.86zM5.41 20L4 18.59l7.72-7.72 1.47 1.35L5.41 20z\"/>\n",
              "  </svg>\n",
              "      </button>\n",
              "      \n",
              "  <style>\n",
              "    .colab-df-container {\n",
              "      display:flex;\n",
              "      flex-wrap:wrap;\n",
              "      gap: 12px;\n",
              "    }\n",
              "\n",
              "    .colab-df-convert {\n",
              "      background-color: #E8F0FE;\n",
              "      border: none;\n",
              "      border-radius: 50%;\n",
              "      cursor: pointer;\n",
              "      display: none;\n",
              "      fill: #1967D2;\n",
              "      height: 32px;\n",
              "      padding: 0 0 0 0;\n",
              "      width: 32px;\n",
              "    }\n",
              "\n",
              "    .colab-df-convert:hover {\n",
              "      background-color: #E2EBFA;\n",
              "      box-shadow: 0px 1px 2px rgba(60, 64, 67, 0.3), 0px 1px 3px 1px rgba(60, 64, 67, 0.15);\n",
              "      fill: #174EA6;\n",
              "    }\n",
              "\n",
              "    [theme=dark] .colab-df-convert {\n",
              "      background-color: #3B4455;\n",
              "      fill: #D2E3FC;\n",
              "    }\n",
              "\n",
              "    [theme=dark] .colab-df-convert:hover {\n",
              "      background-color: #434B5C;\n",
              "      box-shadow: 0px 1px 3px 1px rgba(0, 0, 0, 0.15);\n",
              "      filter: drop-shadow(0px 1px 2px rgba(0, 0, 0, 0.3));\n",
              "      fill: #FFFFFF;\n",
              "    }\n",
              "  </style>\n",
              "\n",
              "      <script>\n",
              "        const buttonEl =\n",
              "          document.querySelector('#df-aff39765-4eec-4396-bb5d-11c5727fe640 button.colab-df-convert');\n",
              "        buttonEl.style.display =\n",
              "          google.colab.kernel.accessAllowed ? 'block' : 'none';\n",
              "\n",
              "        async function convertToInteractive(key) {\n",
              "          const element = document.querySelector('#df-aff39765-4eec-4396-bb5d-11c5727fe640');\n",
              "          const dataTable =\n",
              "            await google.colab.kernel.invokeFunction('convertToInteractive',\n",
              "                                                     [key], {});\n",
              "          if (!dataTable) return;\n",
              "\n",
              "          const docLinkHtml = 'Like what you see? Visit the ' +\n",
              "            '<a target=\"_blank\" href=https://colab.research.google.com/notebooks/data_table.ipynb>data table notebook</a>'\n",
              "            + ' to learn more about interactive tables.';\n",
              "          element.innerHTML = '';\n",
              "          dataTable['output_type'] = 'display_data';\n",
              "          await google.colab.output.renderOutput(dataTable, element);\n",
              "          const docLink = document.createElement('div');\n",
              "          docLink.innerHTML = docLinkHtml;\n",
              "          element.appendChild(docLink);\n",
              "        }\n",
              "      </script>\n",
              "    </div>\n",
              "  </div>\n",
              "  "
            ],
            "text/plain": [
              "   no_of_trees  max_depth  ...  test_score  auc_test_score\n",
              "0            1        1.0  ...    0.951511        0.561512\n",
              "1            1        2.0  ...    0.947489        0.586823\n",
              "2            1        5.0  ...    0.859733        0.635781\n",
              "3            1       10.0  ...    0.858356        0.657715\n",
              "4            1       50.0  ...    0.980044        0.544829\n",
              "\n",
              "[5 rows x 6 columns]"
            ]
          },
          "metadata": {},
          "execution_count": 34
        }
      ],
      "source": [
        "table_random_forest = pd.DataFrame(val_random_forest, columns = ['no_of_trees','max_depth','train_score', 'auc_train_score', 'test_score','auc_test_score'])\n",
        "table_random_forest.head()"
      ]
    },
    {
      "cell_type": "code",
      "execution_count": 35,
      "metadata": {
        "colab": {
          "base_uri": "https://localhost:8080/"
        },
        "id": "EaISCZ6dKbdP",
        "outputId": "17133e7d-2a22-48f4-aa84-95d770451f62"
      },
      "outputs": [
        {
          "output_type": "execute_result",
          "data": {
            "text/plain": [
              "48"
            ]
          },
          "metadata": {},
          "execution_count": 35
        }
      ],
      "source": [
        "table_random_forest.shape[0]"
      ]
    },
    {
      "cell_type": "markdown",
      "metadata": {
        "id": "rpLgR0IG2ZAd"
      },
      "source": [
        "####Accuracy Vs AUR_ROC"
      ]
    },
    {
      "cell_type": "code",
      "execution_count": 36,
      "metadata": {
        "colab": {
          "base_uri": "https://localhost:8080/",
          "height": 282
        },
        "id": "DZWIuM-YR5CQ",
        "outputId": "b75b3fc6-2dce-4be4-c97c-00310fddcf89"
      },
      "outputs": [
        {
          "output_type": "execute_result",
          "data": {
            "text/plain": [
              "[<matplotlib.lines.Line2D at 0x7f216f4b9410>]"
            ]
          },
          "metadata": {},
          "execution_count": 36
        },
        {
          "output_type": "display_data",
          "data": {
            "image/png": "[encoded data removed]",
            "text/plain": [
              "<Figure size 432x288 with 1 Axes>"
            ]
          },
          "metadata": {
            "needs_background": "light"
          }
        }
      ],
      "source": [
        "plt.plot(table_random_forest['train_score'], table_random_forest['auc_train_score'])"
      ]
    },
    {
      "cell_type": "code",
      "execution_count": 37,
      "metadata": {
        "colab": {
          "base_uri": "https://localhost:8080/",
          "height": 282
        },
        "id": "i8W0O3P8b7CM",
        "outputId": "af5875c2-c097-4e74-cda2-75ace1346ee8"
      },
      "outputs": [
        {
          "output_type": "execute_result",
          "data": {
            "text/plain": [
              "[<matplotlib.lines.Line2D at 0x7f216f496390>]"
            ]
          },
          "metadata": {},
          "execution_count": 37
        },
        {
          "output_type": "display_data",
          "data": {
            "image/png": "[encoded data removed]",
            "text/plain": [
              "<Figure size 432x288 with 1 Axes>"
            ]
          },
          "metadata": {
            "needs_background": "light"
          }
        }
      ],
      "source": [
        "plt.plot(table_random_forest['test_score'], table_random_forest['auc_test_score'])"
      ]
    },
    {
      "cell_type": "markdown",
      "metadata": {
        "id": "XpSH37802elo"
      },
      "source": [
        "####Getting Hyperparameters with best scores"
      ]
    },
    {
      "cell_type": "code",
      "execution_count": 38,
      "metadata": {
        "colab": {
          "base_uri": "https://localhost:8080/"
        },
        "id": "nBl_ku84zp9E",
        "outputId": "cd890952-eb18-42fb-f216-a97c4b0565b1"
      },
      "outputs": [
        {
          "output_type": "stream",
          "name": "stdout",
          "text": [
            "test_accuracy: 0.9889111111111111 \n",
            "auc_test_score: 0.6788443754552589 \n",
            "train_accuracy: 0.9999802469135802 \n",
            "auc_train_score: 0.9991478483170004\n"
          ]
        }
      ],
      "source": [
        "print('test_accuracy:', table_random_forest['test_score'].max(),'\\nauc_test_score:',table_random_forest['auc_test_score'].max(), '\\ntrain_accuracy:', table_random_forest['train_score'].max(),'\\nauc_train_score:', table_random_forest['auc_train_score'].max())"
      ]
    },
    {
      "cell_type": "code",
      "execution_count": 39,
      "metadata": {
        "colab": {
          "base_uri": "https://localhost:8080/"
        },
        "id": "yTSYXsZuzp6e",
        "outputId": "daab0ec3-4f56-4983-f4cc-ac6c4353a79b"
      },
      "outputs": [
        {
          "output_type": "stream",
          "name": "stdout",
          "text": [
            "test_score_idx: 41 \n",
            "auc_test_score_idx: 38 \n",
            "train_score_idx: 47 \n",
            "auc_train_score_idx: 47\n"
          ]
        }
      ],
      "source": [
        "print('test_score_idx:',table_random_forest['test_score'].idxmax(),'\\nauc_test_score_idx:',table_random_forest['auc_test_score'].idxmax(),'\\ntrain_score_idx:', table_random_forest['train_score'].idxmax(),'\\nauc_train_score_idx:', table_random_forest['auc_train_score'].idxmax())"
      ]
    },
    {
      "cell_type": "code",
      "execution_count": 40,
      "metadata": {
        "colab": {
          "base_uri": "https://localhost:8080/"
        },
        "id": "ow9RmbSsz1lh",
        "outputId": "d7217e12-6c61-4a30-d75c-3eae8e1b0fb0"
      },
      "outputs": [
        {
          "output_type": "stream",
          "name": "stdout",
          "text": [
            "    no_of_trees  max_depth  ...  test_score  auc_test_score\n",
            "41           50      100.0  ...    0.988911        0.529513\n",
            "\n",
            "[1 rows x 6 columns]\n",
            "41    100.0\n",
            "Name: max_depth, dtype: float64\n",
            "    no_of_trees  max_depth  ...  test_score  auc_test_score\n",
            "38           50        5.0  ...    0.892667        0.678844\n",
            "\n",
            "[1 rows x 6 columns]\n",
            "38    5.0\n",
            "Name: max_depth, dtype: float64\n",
            "    no_of_trees  max_depth  ...  test_score  auc_test_score\n",
            "47          100      100.0  ...    0.988844         0.52665\n",
            "\n",
            "[1 rows x 6 columns]\n",
            "47    100.0\n",
            "Name: max_depth, dtype: float64\n"
          ]
        }
      ],
      "source": [
        "for i in [41, 38, 47]:\n",
        "  print(table_random_forest[i:(i+1)])\n",
        "  print(table_random_forest[i:(i+1)].max_depth)"
      ]
    },
    {
      "cell_type": "markdown",
      "metadata": {
        "id": "-XbzzOrg2mM1"
      },
      "source": [
        "####Final Model"
      ]
    },
    {
      "cell_type": "code",
      "execution_count": 41,
      "metadata": {
        "colab": {
          "base_uri": "https://localhost:8080/"
        },
        "id": "Q6b2Ko9pz1UF",
        "outputId": "e0e9b270-70aa-40b3-ba25-14619baaa745"
      },
      "outputs": [
        {
          "output_type": "stream",
          "name": "stdout",
          "text": [
            "train_accuracy: 0.89954 \n",
            "test_accuracy: 0.8993777777777778 \n",
            "auc_train_score: 0.6839316021945878 \n",
            "auc_test_score: 0.681296508486608\n"
          ]
        }
      ],
      "source": [
        "clf_random_forest, train_score_random_forest, test_score_random_forest, auc_train_score_random_forest, auc_test_score_random_forest = random_forest(X, Y, X_test, Y_test, 50, 5)\n",
        "print('train_accuracy:', train_score_random_forest, '\\ntest_accuracy:', test_score_random_forest,'\\nauc_train_score:', auc_train_score_random_forest,'\\nauc_test_score:', auc_test_score_random_forest)"
      ]
    },
    {
      "cell_type": "markdown",
      "metadata": {
        "id": "HkWwfKyzbEBb"
      },
      "source": [
        "####Confusion Matix"
      ]
    },
    {
      "cell_type": "code",
      "execution_count": 42,
      "metadata": {
        "colab": {
          "base_uri": "https://localhost:8080/",
          "height": 839
        },
        "id": "cJQWxRI4bEBc",
        "outputId": "53484c1f-b0f6-43c6-cf0e-02659baab837"
      },
      "outputs": [
        {
          "output_type": "stream",
          "name": "stdout",
          "text": [
            "Train Data: \n",
            "\n",
            "\n",
            "Accuracy: 0.89954 \n",
            "\n",
            "AUC_ROC Score: 0.6839316021945878 \n",
            "\n",
            "Confusion Matrix Train\n",
            "\n"
          ]
        },
        {
          "output_type": "display_data",
          "data": {
            "image/png": "[encoded data removed]",
            "text/plain": [
              "<Figure size 432x288 with 2 Axes>"
            ]
          },
          "metadata": {
            "needs_background": "light"
          }
        },
        {
          "output_type": "stream",
          "name": "stdout",
          "text": [
            "Test Data: \n",
            "\n",
            "\n",
            "Accuracy: 0.8993777777777778 \n",
            "\n",
            "AUC_ROC Score: 0.681296508486608 \n",
            "\n",
            "Confusion Matrix Train\n"
          ]
        },
        {
          "output_type": "display_data",
          "data": {
            "image/png": "[encoded data removed]",
            "text/plain": [
              "<Figure size 432x288 with 2 Axes>"
            ]
          },
          "metadata": {
            "needs_background": "light"
          }
        }
      ],
      "source": [
        "represent_best(X_train, Y_train, X_test, Y_test, clf_random_forest, train_score_random_forest, auc_train_score_random_forest, test_score_random_forest, auc_test_score_random_forest)"
      ]
    },
    {
      "cell_type": "markdown",
      "metadata": {
        "id": "cRkGTN0zbEBe"
      },
      "source": [
        "####Prediction"
      ]
    },
    {
      "cell_type": "code",
      "execution_count": 43,
      "metadata": {
        "id": "jg5m5JyYbEBf"
      },
      "outputs": [],
      "source": [
        "result_random_forest = prediction(clf_random_forest, test_X)\n",
        "result_random_forest.to_csv('result_random_forest.csv', index = False)"
      ]
    },
    {
      "cell_type": "markdown",
      "metadata": {
        "id": "a-QmlwvTqeoc"
      },
      "source": [
        "#Gradient-Boosted Tree\n",
        "Score(kaggle): Around 0.5"
      ]
    },
    {
      "cell_type": "markdown",
      "metadata": {
        "id": "Xazq3nk2dPih"
      },
      "source": [
        "Model"
      ]
    },
    {
      "cell_type": "code",
      "execution_count": 44,
      "metadata": {
        "id": "f-p7X956J2dr"
      },
      "outputs": [],
      "source": [
        "from sklearn.ensemble import GradientBoostingClassifier\n",
        "def gradient_boost(X_train, Y_train, X_test, Y_test, alpha, tol_value):\n",
        "  clf = GradientBoostingClassifier(learning_rate=alpha, random_state=0,\n",
        "                             tol=tol_value).fit(X_train, Y_train)\n",
        "                            \n",
        "  train_score = clf.score(X_train, Y_train)\n",
        "  test_score = clf.score(X_test, Y_test)\n",
        "  auc_score1 = roc_auc_score(Y_train, clf.predict(X_train))\n",
        "  auc_score2 = roc_auc_score(Y_test, clf.predict(X_test))\n",
        "\n",
        "  return clf, train_score, test_score, auc_score1, auc_score2"
      ]
    },
    {
      "cell_type": "markdown",
      "metadata": {
        "id": "W118La7HdQoT"
      },
      "source": [
        "Hyperparameter Tuning"
      ]
    },
    {
      "cell_type": "code",
      "execution_count": 45,
      "metadata": {
        "id": "RMQtMfaAJ2HH",
        "colab": {
          "base_uri": "https://localhost:8080/"
        },
        "outputId": "f8a7037d-a6b8-4de4-8ae0-14b116ba6b93"
      },
      "outputs": [
        {
          "output_type": "stream",
          "name": "stdout",
          "text": [
            "1  \n",
            "0.9884098765432099 0.5 0.9883555555555555 0.5\n",
            "2  \n",
            "0.9884098765432099 0.5 0.9883555555555555 0.5\n",
            "3  \n",
            "0.9887975308641975 0.5167234767788667 0.9887111111111111 0.5152671755725191\n",
            "4  \n",
            "0.9893530864197531 0.5499539954618995 0.9890666666666666 0.5427927850615376\n",
            "5  \n",
            "0.9888765432098765 0.5203426233426529 0.9887555555555556 0.517175572519084\n",
            "6  \n",
            "0.9884098765432099 0.5 0.9883555555555555 0.5\n",
            "7  \n",
            "0.9884098765432099 0.5 0.9883555555555555 0.5\n",
            "8  \n",
            "0.9887975308641975 0.5167234767788667 0.9887111111111111 0.5152671755725191\n",
            "9  \n",
            "0.9893530864197531 0.5499539954618995 0.9890666666666666 0.5427927850615376\n",
            "10  \n",
            "0.9888765432098765 0.5203426233426529 0.9887555555555556 0.517175572519084\n",
            "11  \n",
            "0.9884098765432099 0.5 0.9883555555555555 0.5\n",
            "12  \n",
            "0.9884098765432099 0.5 0.9883555555555555 0.5\n",
            "13  \n",
            "0.9887975308641975 0.5167234767788667 0.9887111111111111 0.5152671755725191\n",
            "14  \n",
            "0.9893530864197531 0.5499539954618995 0.9890666666666666 0.5427927850615376\n",
            "15  \n",
            "0.9888765432098765 0.5203426233426529 0.9887555555555556 0.517175572519084\n",
            "16  \n",
            "0.9884098765432099 0.5 0.9883555555555555 0.5\n",
            "17  \n",
            "0.9884098765432099 0.5 0.9883555555555555 0.5\n",
            "18  \n",
            "0.9887975308641975 0.5167234767788667 0.9887111111111111 0.5152671755725191\n",
            "19  \n",
            "0.9893530864197531 0.5499539954618995 0.9890666666666666 0.5427927850615376\n",
            "20  \n",
            "0.9888765432098765 0.5203426233426529 0.9887555555555556 0.517175572519084\n",
            "21  \n",
            "0.9884098765432099 0.5 0.9883555555555555 0.5\n",
            "22  \n",
            "0.9884098765432099 0.5 0.9883555555555555 0.5\n",
            "23  \n",
            "0.9887975308641975 0.5167234767788667 0.9887111111111111 0.5152671755725191\n",
            "24  \n",
            "0.9893530864197531 0.5499539954618995 0.9890666666666666 0.5427927850615376\n",
            "25  \n",
            "0.9888765432098765 0.5203426233426529 0.9887555555555556 0.517175572519084\n"
          ]
        }
      ],
      "source": [
        "alpha = [1e-4, 1e-3, 1e-2, 1e-1, 1]\n",
        "tol = [1e-4, 1e-3, 1e-2, 1e-1, 1]\n",
        "val_gradient = []\n",
        "count = 1\n",
        "for i in tol:\n",
        "  for j in alpha:\n",
        "    print(count, ' ')\n",
        "    count = count + 1\n",
        "    clf, train_score, test_score,  auc_train_score, auc_test_score = gradient_boost(X_train, Y_train, X_test, Y_test, j, i)\n",
        "    print( train_score, auc_train_score,  test_score,  auc_test_score)\n",
        "    val_gradient.append([i, j, train_score, auc_train_score,  test_score,  auc_test_score])"
      ]
    },
    {
      "cell_type": "code",
      "execution_count": 46,
      "metadata": {
        "id": "3SRz-vOrMgoG",
        "colab": {
          "base_uri": "https://localhost:8080/",
          "height": 206
        },
        "outputId": "f8d091fe-adda-40d3-b46b-be11ba91da4c"
      },
      "outputs": [
        {
          "output_type": "execute_result",
          "data": {
            "text/html": [
              "\n",
              "  <div id=\"df-57086f4e-40d7-451c-8252-41a6fa751f25\">\n",
              "    <div class=\"colab-df-container\">\n",
              "      <div>\n",
              "<style scoped>\n",
              "    .dataframe tbody tr th:only-of-type {\n",
              "        vertical-align: middle;\n",
              "    }\n",
              "\n",
              "    .dataframe tbody tr th {\n",
              "        vertical-align: top;\n",
              "    }\n",
              "\n",
              "    .dataframe thead th {\n",
              "        text-align: right;\n",
              "    }\n",
              "</style>\n",
              "<table border=\"1\" class=\"dataframe\">\n",
              "  <thead>\n",
              "    <tr style=\"text-align: right;\">\n",
              "      <th></th>\n",
              "      <th>tol</th>\n",
              "      <th>alpha</th>\n",
              "      <th>train_score</th>\n",
              "      <th>auc_train_score</th>\n",
              "      <th>test_score</th>\n",
              "      <th>auc_test_score</th>\n",
              "    </tr>\n",
              "  </thead>\n",
              "  <tbody>\n",
              "    <tr>\n",
              "      <th>0</th>\n",
              "      <td>0.0001</td>\n",
              "      <td>0.0001</td>\n",
              "      <td>0.988410</td>\n",
              "      <td>0.500000</td>\n",
              "      <td>0.988356</td>\n",
              "      <td>0.500000</td>\n",
              "    </tr>\n",
              "    <tr>\n",
              "      <th>1</th>\n",
              "      <td>0.0001</td>\n",
              "      <td>0.0010</td>\n",
              "      <td>0.988410</td>\n",
              "      <td>0.500000</td>\n",
              "      <td>0.988356</td>\n",
              "      <td>0.500000</td>\n",
              "    </tr>\n",
              "    <tr>\n",
              "      <th>2</th>\n",
              "      <td>0.0001</td>\n",
              "      <td>0.0100</td>\n",
              "      <td>0.988798</td>\n",
              "      <td>0.516723</td>\n",
              "      <td>0.988711</td>\n",
              "      <td>0.515267</td>\n",
              "    </tr>\n",
              "    <tr>\n",
              "      <th>3</th>\n",
              "      <td>0.0001</td>\n",
              "      <td>0.1000</td>\n",
              "      <td>0.989353</td>\n",
              "      <td>0.549954</td>\n",
              "      <td>0.989067</td>\n",
              "      <td>0.542793</td>\n",
              "    </tr>\n",
              "    <tr>\n",
              "      <th>4</th>\n",
              "      <td>0.0001</td>\n",
              "      <td>1.0000</td>\n",
              "      <td>0.988877</td>\n",
              "      <td>0.520343</td>\n",
              "      <td>0.988756</td>\n",
              "      <td>0.517176</td>\n",
              "    </tr>\n",
              "  </tbody>\n",
              "</table>\n",
              "</div>\n",
              "      <button class=\"colab-df-convert\" onclick=\"convertToInteractive('df-57086f4e-40d7-451c-8252-41a6fa751f25')\"\n",
              "              title=\"Convert this dataframe to an interactive table.\"\n",
              "              style=\"display:none;\">\n",
              "        \n",
              "  <svg xmlns=\"http://www.w3.org/2000/svg\" height=\"24px\"viewBox=\"0 0 24 24\"\n",
              "       width=\"24px\">\n",
              "    <path d=\"M0 0h24v24H0V0z\" fill=\"none\"/>\n",
              "    <path d=\"M18.56 5.44l.94 2.06.94-2.06 2.06-.94-2.06-.94-.94-2.06-.94 2.06-2.06.94zm-11 1L8.5 8.5l.94-2.06 2.06-.94-2.06-.94L8.5 2.5l-.94 2.06-2.06.94zm10 10l.94 2.06.94-2.06 2.06-.94-2.06-.94-.94-2.06-.94 2.06-2.06.94z\"/><path d=\"M17.41 7.96l-1.37-1.37c-.4-.4-.92-.59-1.43-.59-.52 0-1.04.2-1.43.59L10.3 9.45l-7.72 7.72c-.78.78-.78 2.05 0 2.83L4 21.41c.39.39.9.59 1.41.59.51 0 1.02-.2 1.41-.59l7.78-7.78 2.81-2.81c.8-.78.8-2.07 0-2.86zM5.41 20L4 18.59l7.72-7.72 1.47 1.35L5.41 20z\"/>\n",
              "  </svg>\n",
              "      </button>\n",
              "      \n",
              "  <style>\n",
              "    .colab-df-container {\n",
              "      display:flex;\n",
              "      flex-wrap:wrap;\n",
              "      gap: 12px;\n",
              "    }\n",
              "\n",
              "    .colab-df-convert {\n",
              "      background-color: #E8F0FE;\n",
              "      border: none;\n",
              "      border-radius: 50%;\n",
              "      cursor: pointer;\n",
              "      display: none;\n",
              "      fill: #1967D2;\n",
              "      height: 32px;\n",
              "      padding: 0 0 0 0;\n",
              "      width: 32px;\n",
              "    }\n",
              "\n",
              "    .colab-df-convert:hover {\n",
              "      background-color: #E2EBFA;\n",
              "      box-shadow: 0px 1px 2px rgba(60, 64, 67, 0.3), 0px 1px 3px 1px rgba(60, 64, 67, 0.15);\n",
              "      fill: #174EA6;\n",
              "    }\n",
              "\n",
              "    [theme=dark] .colab-df-convert {\n",
              "      background-color: #3B4455;\n",
              "      fill: #D2E3FC;\n",
              "    }\n",
              "\n",
              "    [theme=dark] .colab-df-convert:hover {\n",
              "      background-color: #434B5C;\n",
              "      box-shadow: 0px 1px 3px 1px rgba(0, 0, 0, 0.15);\n",
              "      filter: drop-shadow(0px 1px 2px rgba(0, 0, 0, 0.3));\n",
              "      fill: #FFFFFF;\n",
              "    }\n",
              "  </style>\n",
              "\n",
              "      <script>\n",
              "        const buttonEl =\n",
              "          document.querySelector('#df-57086f4e-40d7-451c-8252-41a6fa751f25 button.colab-df-convert');\n",
              "        buttonEl.style.display =\n",
              "          google.colab.kernel.accessAllowed ? 'block' : 'none';\n",
              "\n",
              "        async function convertToInteractive(key) {\n",
              "          const element = document.querySelector('#df-57086f4e-40d7-451c-8252-41a6fa751f25');\n",
              "          const dataTable =\n",
              "            await google.colab.kernel.invokeFunction('convertToInteractive',\n",
              "                                                     [key], {});\n",
              "          if (!dataTable) return;\n",
              "\n",
              "          const docLinkHtml = 'Like what you see? Visit the ' +\n",
              "            '<a target=\"_blank\" href=https://colab.research.google.com/notebooks/data_table.ipynb>data table notebook</a>'\n",
              "            + ' to learn more about interactive tables.';\n",
              "          element.innerHTML = '';\n",
              "          dataTable['output_type'] = 'display_data';\n",
              "          await google.colab.output.renderOutput(dataTable, element);\n",
              "          const docLink = document.createElement('div');\n",
              "          docLink.innerHTML = docLinkHtml;\n",
              "          element.appendChild(docLink);\n",
              "        }\n",
              "      </script>\n",
              "    </div>\n",
              "  </div>\n",
              "  "
            ],
            "text/plain": [
              "      tol   alpha  train_score  auc_train_score  test_score  auc_test_score\n",
              "0  0.0001  0.0001     0.988410         0.500000    0.988356        0.500000\n",
              "1  0.0001  0.0010     0.988410         0.500000    0.988356        0.500000\n",
              "2  0.0001  0.0100     0.988798         0.516723    0.988711        0.515267\n",
              "3  0.0001  0.1000     0.989353         0.549954    0.989067        0.542793\n",
              "4  0.0001  1.0000     0.988877         0.520343    0.988756        0.517176"
            ]
          },
          "metadata": {},
          "execution_count": 46
        }
      ],
      "source": [
        "val_gradient_table = pd.DataFrame(val_gradient, columns = ['tol','alpha','train_score', 'auc_train_score',  'test_score',  'auc_test_score'])\n",
        "val_gradient_table.head()"
      ]
    },
    {
      "cell_type": "markdown",
      "metadata": {
        "id": "MSjBne7ZaWno"
      },
      "source": [
        "Accuracy Vs AUR_ROC"
      ]
    },
    {
      "cell_type": "code",
      "execution_count": 47,
      "metadata": {
        "id": "o5c_NVJtacmI",
        "colab": {
          "base_uri": "https://localhost:8080/",
          "height": 282
        },
        "outputId": "e86ecf7e-91c7-473a-f88d-f5e2b66ba124"
      },
      "outputs": [
        {
          "output_type": "execute_result",
          "data": {
            "text/plain": [
              "[<matplotlib.lines.Line2D at 0x7f216f396690>]"
            ]
          },
          "metadata": {},
          "execution_count": 47
        },
        {
          "output_type": "display_data",
          "data": {
            "image/png": "[encoded data removed]",
            "text/plain": [
              "<Figure size 432x288 with 1 Axes>"
            ]
          },
          "metadata": {
            "needs_background": "light"
          }
        }
      ],
      "source": [
        "plt.plot(val_gradient_table['train_score'], val_gradient_table['auc_train_score'])"
      ]
    },
    {
      "cell_type": "code",
      "execution_count": 48,
      "metadata": {
        "id": "NfdbjsbtachZ",
        "colab": {
          "base_uri": "https://localhost:8080/",
          "height": 282
        },
        "outputId": "3d0e4d0a-6e34-401e-8599-39d76ac9260a"
      },
      "outputs": [
        {
          "output_type": "execute_result",
          "data": {
            "text/plain": [
              "[<matplotlib.lines.Line2D at 0x7f216f3071d0>]"
            ]
          },
          "metadata": {},
          "execution_count": 48
        },
        {
          "output_type": "display_data",
          "data": {
            "image/png": "[encoded data removed]",
            "text/plain": [
              "<Figure size 432x288 with 1 Axes>"
            ]
          },
          "metadata": {
            "needs_background": "light"
          }
        }
      ],
      "source": [
        "plt.plot(val_gradient_table['test_score'], val_gradient_table['auc_test_score'])"
      ]
    },
    {
      "cell_type": "markdown",
      "metadata": {
        "id": "5S55xTq3aXx0"
      },
      "source": [
        "Getting Hyperparameters with best scores"
      ]
    },
    {
      "cell_type": "code",
      "execution_count": 49,
      "metadata": {
        "id": "3VUuusMZMFHZ",
        "colab": {
          "base_uri": "https://localhost:8080/"
        },
        "outputId": "85ab0553-10fe-45a1-c482-5b566255da16"
      },
      "outputs": [
        {
          "output_type": "stream",
          "name": "stdout",
          "text": [
            "0.9890666666666666 0.5427927850615376 0.9893530864197531 0.5499539954618995\n"
          ]
        }
      ],
      "source": [
        "print(val_gradient_table['test_score'].max(),val_gradient_table['auc_test_score'].max(), val_gradient_table['train_score'].max(), val_gradient_table['auc_train_score'].max())"
      ]
    },
    {
      "cell_type": "code",
      "execution_count": 50,
      "metadata": {
        "id": "1IK-JGsncMam",
        "colab": {
          "base_uri": "https://localhost:8080/"
        },
        "outputId": "3d36aae9-fbbf-42ba-d019-d5690567f81f"
      },
      "outputs": [
        {
          "output_type": "stream",
          "name": "stdout",
          "text": [
            "3 3 3 3\n"
          ]
        }
      ],
      "source": [
        "print(val_gradient_table['test_score'].idxmax(),val_gradient_table['auc_test_score'].idxmax(), val_gradient_table['train_score'].idxmax(), val_gradient_table['auc_train_score'].idxmax())"
      ]
    },
    {
      "cell_type": "code",
      "execution_count": 51,
      "metadata": {
        "id": "nCPgC_7BMtRl",
        "colab": {
          "base_uri": "https://localhost:8080/"
        },
        "outputId": "1ada85f4-2e53-443e-9a3e-b45b8525d08e"
      },
      "outputs": [
        {
          "output_type": "stream",
          "name": "stdout",
          "text": [
            "      tol  alpha  train_score  auc_train_score  test_score  auc_test_score\n",
            "3  0.0001    0.1     0.989353         0.549954    0.989067        0.542793\n"
          ]
        }
      ],
      "source": [
        "print(val_gradient_table[3:4])"
      ]
    },
    {
      "cell_type": "markdown",
      "metadata": {
        "id": "s5-i-AtUckoY"
      },
      "source": [
        "Final Model"
      ]
    },
    {
      "cell_type": "code",
      "execution_count": 52,
      "metadata": {
        "id": "d28XtQBacgLw",
        "colab": {
          "base_uri": "https://localhost:8080/"
        },
        "outputId": "1f36d8e0-4ac6-4c81-c00b-8cd74f602059"
      },
      "outputs": [
        {
          "output_type": "stream",
          "name": "stdout",
          "text": [
            "0.9893530864197531 0.9890666666666666 0.5499539954618995 0.5427927850615376\n"
          ]
        }
      ],
      "source": [
        "clf_grd_boost, train_score_grd_boost, test_score_grd_boost, auc_train_score_grd_boost, auc_test_score_grd_boost = gradient_boost(X_train, Y_train, X_test, Y_test,0.1,0.0001)\n",
        "print(train_score_grd_boost, test_score_grd_boost, auc_train_score_grd_boost, auc_test_score_grd_boost)"
      ]
    },
    {
      "cell_type": "markdown",
      "metadata": {
        "id": "pHnHAytIbvE7"
      },
      "source": [
        "Confusion Matix"
      ]
    },
    {
      "cell_type": "code",
      "execution_count": 55,
      "metadata": {
        "id": "K5nTvEFybvE7",
        "colab": {
          "base_uri": "https://localhost:8080/",
          "height": 840
        },
        "outputId": "4a87e8d1-0338-48e0-f3ef-2610a90d0233"
      },
      "outputs": [
        {
          "output_type": "stream",
          "name": "stdout",
          "text": [
            "Train Data: \n",
            "\n",
            "\n",
            "Accuracy: 0.9893530864197531 \n",
            "\n",
            "AUC_ROC Score: 0.5499539954618995 \n",
            "\n",
            "Confusion Matrix Train\n",
            "\n"
          ]
        },
        {
          "output_type": "display_data",
          "data": {
            "image/png": "[encoded data removed]",
            "text/plain": [
              "<Figure size 432x288 with 2 Axes>"
            ]
          },
          "metadata": {
            "needs_background": "light"
          }
        },
        {
          "output_type": "stream",
          "name": "stdout",
          "text": [
            "Test Data: \n",
            "\n",
            "\n",
            "Accuracy: 0.9890666666666666 \n",
            "\n",
            "AUC_ROC Score: 0.5427927850615376 \n",
            "\n",
            "Confusion Matrix Train\n"
          ]
        },
        {
          "output_type": "display_data",
          "data": {
            "image/png": "[encoded data removed]",
            "text/plain": [
              "<Figure size 432x288 with 2 Axes>"
            ]
          },
          "metadata": {
            "needs_background": "light"
          }
        }
      ],
      "source": [
        "represent_best(X_train, Y_train, X_test, Y_test, clf_grd_boost, train_score_grd_boost, auc_train_score_grd_boost, test_score_grd_boost, auc_test_score_grd_boost)"
      ]
    },
    {
      "cell_type": "markdown",
      "metadata": {
        "id": "-OjwSudGbvE8"
      },
      "source": [
        "Prediction"
      ]
    },
    {
      "cell_type": "code",
      "execution_count": 56,
      "metadata": {
        "id": "9-HP_CO0bvE8"
      },
      "outputs": [],
      "source": [
        "result_grd_boost = prediction(clf_grd_boost, test_X)\n",
        "result_grd_boost.to_csv('result_grd_boost.csv', index = False)"
      ]
    }
  ],
  "metadata": {
    "colab": {
      "collapsed_sections": [
        "eZ48TVUQb9Hf",
        "M3qyZ7vTYyg6",
        "tlvNewAUmMXP",
        "ghSfHQFTz_Jn",
        "BHIZ8gclqaeH"
      ],
      "name": "Rider_Driven_Cancellation_Prediction.ipynb",
      "provenance": []
    },
    "kernelspec": {
      "display_name": "Python 3",
      "name": "python3"
    },
    "language_info": {
      "name": "python"
    }
  },
  "nbformat": 4,
  "nbformat_minor": 0
}